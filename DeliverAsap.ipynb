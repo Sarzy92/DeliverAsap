{
  "nbformat": 4,
  "nbformat_minor": 0,
  "metadata": {
    "colab": {
      "name": "DeliverAsap.ipynb",
      "provenance": [],
      "collapsed_sections": [],
      "include_colab_link": true
    },
    "kernelspec": {
      "display_name": "Python 3",
      "name": "python3"
    }
  },
  "cells": [
    {
      "cell_type": "markdown",
      "metadata": {
        "id": "view-in-github",
        "colab_type": "text"
      },
      "source": [
        "<a href=\"https://colab.research.google.com/github/Sarzy92/DeliverAsap/blob/main/DeliverAsap.ipynb\" target=\"_parent\"><img src=\"https://colab.research.google.com/assets/colab-badge.svg\" alt=\"Open In Colab\"/></a>"
      ]
    },
    {
      "cell_type": "markdown",
      "metadata": {
        "id": "hny8JHfVZDYs"
      },
      "source": [
        "<h1>WAREHOUSE RENT IN NIGERIA</h1>\r\n",
        "   <h4>A project for DeliverAsap Services Limited</h4>"
      ]
    },
    {
      "cell_type": "code",
      "metadata": {
        "id": "tdN1XYbjOgS2"
      },
      "source": [
        "# importing required libraries\r\n",
        "\r\n",
        "import pandas as pd\r\n",
        "from bs4 import BeautifulSoup\r\n",
        "import requests\r\n",
        "import time\r\n",
        "from time import sleep\r\n"
      ],
      "execution_count": null,
      "outputs": []
    },
    {
      "cell_type": "code",
      "metadata": {
        "id": "cG8yexa6aNyv"
      },
      "source": [
        "# target URL to scrap\r\n",
        "\r\n",
        "url = 'https://nigeriapropertycentre.com/for-rent/commercial/warehouses/showtype'"
      ],
      "execution_count": null,
      "outputs": []
    },
    {
      "cell_type": "code",
      "metadata": {
        "id": "1V7fQIvjaeWi"
      },
      "source": [
        "headers ={'User-Agent': 'Mozilla/5.0 (Windows NT 10.0; Win64; x64) AppleWebKit/537.36 (KHTML, like Gecko) Chrome/89.0.4389.82 Safari/537.36' ,'referer':'https://www.google.com/'}"
      ],
      "execution_count": null,
      "outputs": []
    },
    {
      "cell_type": "code",
      "metadata": {
        "id": "ox7XIw71bSid"
      },
      "source": [
        "# send request to download the data\r\n",
        "\r\n",
        "r = requests.get(url, headers=headers)"
      ],
      "execution_count": null,
      "outputs": []
    },
    {
      "cell_type": "code",
      "metadata": {
        "colab": {
          "base_uri": "https://localhost:8080/"
        },
        "id": "YQhuYqlDbY7E",
        "outputId": "d46da620-6aa6-4c6d-832d-af8e55c5ff6c"
      },
      "source": [
        "r.status_code"
      ],
      "execution_count": null,
      "outputs": [
        {
          "output_type": "execute_result",
          "data": {
            "text/plain": [
              "200"
            ]
          },
          "metadata": {
            "tags": []
          },
          "execution_count": 39
        }
      ]
    },
    {
      "cell_type": "code",
      "metadata": {
        "colab": {
          "base_uri": "https://localhost:8080/",
          "height": 137
        },
        "id": "JoTjq9a8be40",
        "outputId": "ca70c110-aa49-4a1c-9053-be68d810d782"
      },
      "source": [
        "r.text"
      ],
      "execution_count": null,
      "outputs": [
        {
          "output_type": "execute_result",
          "data": {
            "application/vnd.google.colaboratory.intrinsic+json": {
              "type": "string"
            },
            "text/plain": [
              "'<!DOCTYPE html>\\n<html lang=\"en\">\\n<head>\\n<meta charset=\"utf-8\">\\n<meta name=\"apple-itunes-app\" content=\"app-id=1125813120\">\\n<meta name=\"google-play-app\" content=\"app-id=com.nigeriapropertycentre.app\">\\n<meta name=\"viewport\" content=\"width=device-width, initial-scale=1.0\">\\n<meta name=\"csrf-token\" content=\"lyiGuRgFHiObxgUBrz6YLh2kAHtFyUWI84161g5J\">\\n<link rel=\"manifest\" href=\"https://st.nigeriapropertycentre.com/webapp/manifest.json\">\\n<link rel=\"apple-touch-icon\" href=\"https://assets.nigeriapropertycentre.com/9ff8ac73-d2b6-4a72-9866-0282cd980b46/launcher-icon-60.png\">\\n<link rel=\"apple-touch-icon\" sizes=\"76x76\" href=\"https://assets.nigeriapropertycentre.com/9ff8ac73-d2b6-4a72-9866-0282cd980b46/launcher-icon-76.png\">\\n<link rel=\"apple-touch-icon\" sizes=\"120x120\" href=\"https://assets.nigeriapropertycentre.com/9ff8ac73-d2b6-4a72-9866-0282cd980b46/launcher-icon-120.png\">\\n<link rel=\"apple-touch-icon\" sizes=\"152x152\" href=\"https://assets.nigeriapropertycentre.com/9ff8ac73-d2b6-4a72-9866-0282cd980b46/launcher-icon-152.png\">\\n\\n\\n\\n<link href=\"https://fonts.googleapis.com/css?family=Open+Sans:400,700|Roboto:400,500,700&subset=latin\" rel=\"stylesheet\" type=\"text/css\">\\n<link href=\"https://assets.nigeriapropertycentre.com/9ff8ac73-d2b6-4a72-9866-0282cd980b46/css/all.css?id=42a1859c990564bc2a53\" rel=\"stylesheet\" type=\"text/css\">\\n<!--[if lt IE 9]>\\n\\t<link href=\"https://assets.nigeriapropertycentre.com/9ff8ac73-d2b6-4a72-9866-0282cd980b46/css/sky-forms-ie8.css\" rel=\"stylesheet\" type=\"text/css\">\\n    <![endif]-->\\n<script src=\"//d2wy8f7a9ursnm.cloudfront.net/v7/bugsnag.min.js\"></script>\\n<script type=\"text/javascript\">\\n            Bugsnag.start({\\n                apiKey: \\'2f9be6cbadc429acb199ec901c44bee7\\',\\n                releaseStage: \\'production\\'\\n            })\\n        </script>\\n<script data-cfasync=\"false\" type=\\'text/javascript\\'>\\n        var app_short_name = \\'NPC\\';\\n        var app_name = \\'Nigeria Property Centre\\';\\n        var app_url = \\'https://nigeriapropertycentre.com\\';\\n        var app_images_url = \\'https://images.nigeriapropertycentre.com\\';\\n        var user_logged_in = false;\\n    </script>\\n<script type=\"text/javascript\" src=\"https://st.nigeriapropertycentre.com/js/properties-variables.js?v=hi5jtmoyorubtvg3dyiu\"></script>\\n<script type=\"text/javascript\" src=\"https://assets.nigeriapropertycentre.com/9ff8ac73-d2b6-4a72-9866-0282cd980b46/js/all.js?id=5c9230cff20b0aeeb529\"></script>\\n<link href=\"https://assets.nigeriapropertycentre.com/9ff8ac73-d2b6-4a72-9866-0282cd980b46/images/favicon.png\" rel=\"icon\" type=\"image/png\">\\n<script type=\"text/javascript\">var isMobile = false;var isLoggedIn = false;</script>\\n<script type=\"text/javascript\" src=\"https://assets.nigeriapropertycentre.com/9ff8ac73-d2b6-4a72-9866-0282cd980b46/js/views/properties/list/default.js?v=6\"></script>\\n<script type=\"text/javascript\" src=\"https://assets.nigeriapropertycentre.com/9ff8ac73-d2b6-4a72-9866-0282cd980b46/js/jquery.copypaste.js\" defer=\"defer\"></script>\\n<script data-cfasync=\"false\" type=\\'text/javascript\\'>\\n        var googletag = googletag || {};\\n        googletag.cmd = googletag.cmd || [];\\n        (function() {\\n            var gads = document.createElement(\\'script\\');\\n            gads.async = true;\\n            gads.type = \\'text/javascript\\';\\n            var useSSL = \\'https:\\' == document.location.protocol;\\n            gads.src = (useSSL ? \\'https:\\' : \\'http:\\') +\\n                \\'//www.googletagservices.com/tag/js/gpt.js\\';\\n            var node = document.getElementsByTagName(\\'script\\')[0];\\n            node.parentNode.insertBefore(gads, node);\\n        })();\\n    </script>\\n<script data-cfasync=\"false\" type=\\'text/javascript\\'>\\n        googletag.cmd.push(function() {\\n\\n            \\tgoogletag.defineSlot(\\'/38062153/NPC_Property_List_Middle_750\\', [750, 120], \\'div-gpt-ad-1471185312256-1\\').addService(googletag.pubads());googletag.pubads().addEventListener(\\'slotRenderEnded\\', function(event) {\\n                            if (event.slot.getSlotElementId() == \\'div-gpt-ad-1471185312256-1\\') {\\n                                $(\\'#property-list-banner iframe\\').css({\\'width\\':\\'100%\\', \\'height\\' : \\'auto\\', \\'max-height\\' : \\'120px\\'});\\n                                $(\\'#property-list-banner iframe\\').contents().find(\\'img\\').css({\\'width\\':\\'100%\\', \\'height\\' : \\'auto\\'});\\n                            }\\n                            });\\n            googletag.pubads().setTargeting(\"SiteCode\", \"NPC\");\\n\\n            googletag.pubads().enableSingleRequest();\\n            googletag.enableServices();\\n\\n\\t        \\n        });\\n    </script>\\n<script data-cfasync=\"false\">\\n        (function(i,s,o,g,r,a,m){i[\\'GoogleAnalyticsObject\\']=r;i[r]=i[r]||function(){\\n            (i[r].q=i[r].q||[]).push(arguments)},i[r].l=1*new Date();a=s.createElement(o),\\n            m=s.getElementsByTagName(o)[0];a.async=1;a.src=g;m.parentNode.insertBefore(a,m)\\n        })(window,document,\\'script\\',\\'//www.google-analytics.com/analytics.js\\',\\'ga\\');\\n\\n        ga(\\'create\\', \\'UA-22697833-1\\', \\'auto\\');\\n        ga(\\'require\\', \\'displayfeatures\\');\\n\\t\\t        //user line below required for dimension1 above to work\\n\\t\\t        ga(\\'send\\', \\'pageview\\');\\n    </script>\\n\\n<script>\\n        !function(f,b,e,v,n,t,s)\\n        {if(f.fbq)return;n=f.fbq=function(){n.callMethod?\\n            n.callMethod.apply(n,arguments):n.queue.push(arguments)};\\n            if(!f._fbq)f._fbq=n;n.push=n;n.loaded=!0;n.version=\\'2.0\\';\\n            n.queue=[];t=b.createElement(e);t.async=!0;\\n            t.src=v;s=b.getElementsByTagName(e)[0];\\n            s.parentNode.insertBefore(t,s)}(window, document,\\'script\\',\\n            \\'https://connect.facebook.net/en_US/fbevents.js\\');\\n        fbq(\\'init\\', \\'735755593285531\\');\\n        fbq(\\'track\\', \\'PageView\\');\\n    </script>\\n<noscript><img height=\"1\" width=\"1\" style=\"display:none\"\\n                   src=\"https://www.facebook.com/tr?id=735755593285531&ev=PageView&noscript=1\"\\n        /></noscript>\\n\\n\\n<link rel=\"manifest\" href=\"https://st.nigeriapropertycentre.com/webapp/manifest.json\">\\n<script data-cfasync=\"false\" src=\"https://cdn.onesignal.com/sdks/OneSignalSDK.js\" async></script>\\n<script data-cfasync=\"false\">\\n        var OneSignal = OneSignal || [];\\n        OneSignal.push([\"init\", {\\n            appId: \"d006e659-a878-4adc-b499-4038a01e37c5\",\\n            autoRegister: true,\\n            notifyButton: {\\n                enable: false\\n            }\\n        }]);\\n\\n        OneSignal.push(function() {\\n            OneSignal.setDefaultTitle(\"Nigeria Property Centre\");\\n                    });\\n    </script>\\n\\n<link rel=\"canonical\" href=\"https://nigeriapropertycentre.com/for-rent/commercial/warehouses/showtype\" />\\n<title>Warehouses for Rent in Nigeria (2,225 listings)</title>\\n<meta name=\"robots\" content=\"index, follow\" />\\n<meta name=\"description\" content=\"List of Warehouses to Let in Nigeria - Nigerian Real Estate &amp; Property\" />\\n<meta property=\"og:title\" content=\"List of Warehouses for Rent in  Nigeria (209 available)\" />\\n<meta property=\"og:type\" content=\"website\" />\\n<meta property=\"og:url\" content=\"https://nigeriapropertycentre.com/for-rent/commercial/warehouses/showtype\" />\\n<meta property=\"og:image\" content=\"https://images.nigeriapropertycentre.com/properties/images/888867/0604e9d6ec45dd-3230sqft-warehouse-tolet-warehouses-for-rent-cms-lagos-island-lagos.jpg\" />\\n<meta name=\"twitter:card\" content=\"summary_large_image\">\\n<meta name=\"twitter:site\" content=\"@NGPropertyCntr\">\\n<meta name=\"twitter:creator\" content=\"@NGPropertyCntr\">\\n<meta name=\"twitter:image\" content=\"https://images.nigeriapropertycentre.com/properties/images/888867/0604e9d6ec45dd-3230sqft-warehouse-tolet-warehouses-for-rent-cms-lagos-island-lagos.jpg\">\\n<meta name=\"twitter:title\" content=\"List of Warehouses for Rent in  Nigeria (209 available)\">\\n<meta name=\"twitter:description\" content=\"List of Warehouses to Let in Nigeria - Nigerian Real Estate &amp; Property ()\">\\n<meta itemprop=\"name\" content=\"Warehouses for Rent in  Nigeria\" />\\n<meta itemprop=\"image\" content=\"https://images.nigeriapropertycentre.com/properties/images/888867/0604e9d6ec45dd-3230sqft-warehouse-tolet-warehouses-for-rent-cms-lagos-island-lagos.jpg\" />\\n</head>\\n<body itemscope itemtype=\"https://schema.org/FAQPage\" class=\" property-list-page\">\\n<div class=\"body-wrap\">\\n<div id=\"divHeaderWrapper\" class=\"hidden-ma\">\\n<header class=\"header-standard-2\">\\n\\n<div class=\"navbar navbar-wp navbar-arrow mega-nav\" role=\"navigation\">\\n<div class=\"container\">\\n<div class=\"navbar-header\">\\n<button type=\"button\" class=\"navbar-toggle\" data-toggle=\"collapse\" data-target=\".navbar-collapse\">\\n<i class=\"fal fa-bars icon-custom\"></i><span>MENU</span>\\n</button>\\n<a class=\"navbar-brand\" href=\"/\" title=\"Nigeria Property Centre\">\\n<img src=\"https://images.nigeriapropertycentre.com/property-centre-logo.png\" alt=\"Nigeria Property Centre\">\\n</a>\\n</div>\\n<div class=\"navbar-collapse collapse\">\\n<ul class=\"nav navbar-nav navbar-right\">\\n<li class=\"hidden-lg hidden-md\">\\n<a href=\"/\" class=\"remove-content\">Home</a>\\n</li>\\n<li>\\n<a href=\"/for-sale\" class=\"remove-content\">For Sale</a>\\n</li>\\n<li>\\n<a href=\"/for-rent\" class=\"remove-content\">For Rent</a>\\n</li>\\n<li class=\"dropdown\">\\n<a href=\"/\" class=\"dropdown-toggle\" data-toggle=\"dropdown\">Companies</a>\\n<ul class=\"dropdown-menu\">\\n<li><a href=\"/agents\">Estate Agents</a></li>\\n<li><a href=\"/developers\">Property Developers</a></li>\\n</ul>\\n</li>\\n<li class=\"dropdown\">\\n<a href=\"/requests\" class=\"dropdown-toggle\" data-toggle=\"dropdown\">Requests</a>\\n<ul class=\"dropdown-menu\">\\n<li><a href=\"/requests/create\">Post a Request</a></li>\\n<li><a href=\"/requests\">View Property Requests</a></li>\\n</ul>\\n </li>\\n<li class=\"dropdown\">\\n<a href=\"/market-trends\" class=\"dropdown-toggle\" data-toggle=\"dropdown\"><span class=\"hidden-md\">Market</span> Trends &nbsp;<span class=\"badge badge-base hidden-lg hidden-md\">New</span></a>\\n<ul class=\"dropdown-menu\">\\n<li><a href=\"/market-trends/demand-trends\"><i class=\"fal fa-search-location fa-fw\"></i> &nbsp;Property Demand Trends</a></li>\\n<li><a href=\"/market-trends/average-prices\"><i class=\"fal fa-coins fa-fw\"></i> &nbsp;Average Property Prices</a></li>\\n</ul>\\n</li>\\n<li>\\n<a href=\"/register\" class=\"remove-content\">Register</a>\\n</li>\\n<li>\\n<a href=\"/login\" class=\"remove-content\">Sign In</a>\\n</li>\\n</ul>\\n</div>\\n</div>\\n</div>\\n</header>\\n</div>\\n<div class=\"pg-opt\">\\n<div class=\"container\">\\n<div class=\"row\">\\n<div class=\"col-md-12\">\\n<h1 class=\"page-title\">Warehouses for Rent in Nigeria <span></span></h1>\\n</div>\\n</div>\\n</div>\\n</div>\\n<section class=\"slice bg-white\">\\n<div class=\"wp-section\">\\n<div class=\"container\">\\n<div class=\"row\">\\n<div class=\"col-md-8\">\\n<div class=\"row hidden-xs\">\\n<div class=\"col-md-12\">\\n<div class=\"section-title-wr wp-block default product-list-quick-filters sort-panel light-gray product-list-top-info\">\\n<h2>\\nThe average price of warehouses for rent in Nigeria is <strong>&#8358;8,000,000 per annum</strong>. The most expensive warehouse costs &#8358;151,000,000 per annum while the cheapest costs &#8358;153,000 per annum. There are 2,225 listings and 209 available warehouses for rent in Nigeria. The warehouses have been listed by estate agents who can be contacted using the contact information provided for each warehouse listing. The list can be filtered by price, furnishing and recency.\\n</h2>\\n</div>\\n</div>\\n</div>\\n<div class=\"wp-block default product-list-quick-filters sort-panel light-gray\">\\n<div class=\"row\">\\n<div class=\"col-xs-12\">\\n<strong>Quick Filters</strong>\\n<strong class=\\'filterLinkTitle\\'>Subtypes&nbsp;&nbsp;</strong><ul class=\\'filterLink\\'><li><a itemprop=\"relatedLink\" onclick=\"ga(\\'send\\', \\'event\\', \\'Property List\\', \\'Quick Filter\\', \\'Show all commercial property types\\');\" href=\"/for-rent/commercial/showtype\">Show all commercial property types</a></li></ul><strong class=\\'filterLinkTitle\\'>Furnishing&nbsp;&nbsp;</strong><ul class=\\'filterLink filterLinkBottom\\'><li><a itemprop=\"relatedLink\" onclick=\"ga(\\'send\\', \\'event\\', \\'Property List\\', \\'Quick Filter\\', \\'Furnished\\');\" href=\"/for-rent/commercial/warehouses/serviced/showtype\">Serviced</a><span>|</span></li><li><a itemprop=\"relatedLink\" onclick=\"ga(\\'send\\', \\'event\\', \\'Property List\\', \\'Quick Filter\\', \\'Furnished\\');\" href=\"/for-rent/furnished/commercial/warehouses/showtype\">Furnished</a><span>|</span></li><li><a itemprop=\"relatedLink\" onclick=\"ga(\\'send\\', \\'event\\', \\'Property List\\', \\'Quick Filter\\', \\'Unfurnished\\');\" href=\"/for-rent/unfurnished/commercial/warehouses/showtype\">Unfurnished</a></li></ul>\\n</div>\\n<div class=\"col-xs-12 voffset-5 hidden-lg hidden-md\">\\n<div class=\"hidden\" id=\"moreFilterOptionsContainer\">\\n<i class=\"red-text fas fa-filter\"></i> <a id=\"moreFilterOptions\" href=\"javascript:void(0);\" class=\"red-text underline\"><strong>More filter options</strong></a>\\n<br>\\n<span class=\"more-filter-desc\">e.g. location, price, date added</span>\\n</div>\\n<div id=\"moreFilterOptionsSpinner\">\\n<i class=\"fal fa-circle-notch fa-spin\"></i>\\n<br>\\n<span class=\"more-filter-desc\">&nbsp;</span>\\n</div>\\n</div>\\n</div>\\n</div>\\n<form action=\"/for-rent/commercial/warehouses/showtype\" method=\"post\" name=\"adminForm\" id=\"adminForm\" class=\"form-light\">\\n<input type=\"hidden\" name=\"sort\" id=\"sort\">\\n<input type=\"hidden\" name=\"_token\" value=\"lyiGuRgFHiObxgUBrz6YLh2kAHtFyUWI84161g5J\"> <div class=\"wp-block default product-list-filters sort-panel light-gray\">\\n<div class=\"row\">\\n<div class=\"col-sm-8 col-xs-12\">\\n<span class=\"pagination-results\">Results 1 - 20 of 209</span>\\n<hr class=\"mv-10 hidden-sm hidden-md hidden-lg\" />\\n</div>\\n<div class=\"col-sm-4 text-sm-right\">\\n<div class=\"sort-filter\">\\n<select name=\"filter_order_dd\" id=\"filter_order_dd\" onchange=\"tableOrdering();\" class=\"form-control\" size=\"1\"><option value=\"1\">Default</option><option value=\"2\">Most Recent</option><option value=\"3\">Highest Price</option><option value=\"4\">Lowest Price</option><option value=\"5\">Verification Status</option></select>\\n<script language=\"javascript\" type=\"text/javascript\">\\n                                                function tableOrdering(order, dir, field)\\n                                                {\\n                                                    try\\n                                                    {\\n                                                        var form = document.adminForm;\\n                                                        form.sort.value = form.filter_order_dd.value;\\n\\n                                                        var orderText = form.filter_order_dd.options[form.filter_order_dd.selectedIndex].text;\\n\\n                                                        form.filter_order_dd.removeAttribute(\\'name\\');\\n\\n                                                        ga(\\'send\\', \\'event\\', \\'Property List\\', \\'Sort\\', orderText);\\n                                                    }\\n                                                    catch(error){}\\n\\n                                                    document.adminForm.submit();\\n                                                }\\n                                            </script>\\n</div>\\n</div>\\n</div>\\n</div>\\n</form>\\n<form action=\"/ajax/alert-subscriptions\" method=\"post\" name=\"alertSubscription\" id=\"alertSubscription\" class=\"form-light\" autocomplete=\"off\">\\n<input type=\"hidden\" name=\"_token\" value=\"lyiGuRgFHiObxgUBrz6YLh2kAHtFyUWI84161g5J\"> <input id=\"oneSignalUserID\" name=\"oneSignalUserID\" type=\"hidden\" value=\"\">\\n<input id=\"as_sid\" name=\"as_sid\" type=\"hidden\" value=\"\">\\n<input id=\"as_lid\" name=\"as_lid\" type=\"hidden\" value=\"\">\\n<input id=\"as_slid\" name=\"as_slid\" type=\"hidden\" value=\"\">\\n<input id=\"as_cid\" name=\"as_cid\" type=\"hidden\" value=\"1\">\\n<input id=\"as_tid\" name=\"as_tid\" type=\"hidden\" value=\"3\">\\n<input id=\"as_stid\" name=\"as_stid\" type=\"hidden\" value=\"8\">\\n<input id=\"as_minprice\" name=\"as_minprice\" type=\"hidden\" value=\"\">\\n<input id=\"as_maxprice\" name=\"as_maxprice\" type=\"hidden\" value=\"\">\\n<input id=\"as_bedrooms\" name=\"as_bedrooms\" type=\"hidden\" value=\"\">\\n<div class=\"row\">\\n<div class=\"col-sm-12\" id=\"email-me-container\">\\n<div class=\"panel-group email-me\">\\n<div class=\"panel panel-default\">\\n<div class=\"panel-heading\">\\n<div class=\"row\">\\n<div class=\"col-sm-12 col-xs-12\">\\n<div class=\"panel-title\">\\n<a onclick=\"setTimeout(function(){document.getElementById(\\'name\\').focus();}, 500);\" data-toggle=\"collapse\" data-parent=\"#accordionThree\" href=\"#email-me\" class=\"clearfix collapsed\">\\n<i class=\"fas fa-bell\"></i>Create alert\\n</a>&nbsp;for new property matching my search\\n</div>\\n</div>\\n</div>\\n</div>\\n<div id=\"email-me\" class=\"panel-collapse collapse\">\\n<div class=\"panel-body\">\\n<div class=\"row\">\\n<div class=\"col-sm-4 col-xs-12\">\\n<div class=\"form-group\" id=\"pas_name_group\">\\n<label class=\"control-label\">Name</label>\\n<input type=\"text\" name=\"name\" id=\"name\" class=\"form-control\" placeholder=\"\" hidefocus=\"true\" required minlength=\"2\">\\n</div>\\n</div>\\n<div class=\"col-sm-4 col-xs-12\">\\n<div class=\"form-group\" id=\"pas_email_group\">\\n<label class=\"control-label\">Email</label>\\n<input type=\"email\" name=\"email\" id=\"email\" class=\"form-control\" placeholder=\"\" hidefocus=\"true\" required=\"required\">\\n</div>\\n</div>\\n<div class=\"col-sm-4 col-xs-6\">\\n<div class=\"form-group\" id=\"pas_email_group\">\\n<label class=\"control-label hidden-xs\">&nbsp;</label>\\n<br class=\"hidden-xs\" />\\n<button type=\"submit\" id=\"addComment\" name=\"addComment\" class=\"btn btn-base btn-icon btn-icon-right fa-bell\">\\n<span>Create Alert</span>\\n</button>\\n</div>\\n</div>\\n</div>\\n</div>\\n</div>\\n</div>\\n</div>\\n</div>\\n</div>\\n</form>\\n\\n<div itemscope=\"\" itemtype=\"https://schema.org/ItemList\">\\n<link itemprop=\"url\" href=\"/for-rent/commercial/warehouses/showtype\" />\\n<span class=\"hidden\" itemprop=\"numberOfItems\">20</span>\\n<div itemprop=\"itemListElement\" itemscope=\"\" itemtype=\"https://schema.org/ListItem\" class=\"row property-list \">\\n<meta itemprop=\"position\" content=\"1\">\\n<link itemprop=\"additionalType\" href=\"https://schema.org/RealEstateListing\">\\n<div class=\"col-md-12\">\\n<div class=\"wp-block property list\">\\n<div class=\"ribbon base-alt hidden-xs\"><span>Premium Listing</span></div>\\n<div class=\"wp-block-title hidden-xs\">\\n<a itemprop=\"url\" href=\"/for-rent/commercial/warehouses/lagos/lagos-island/cms/888867-3230sqft-warehouse\" hidefocus=\"true\"><h3 itemprop=\"name\">3230sqft Warehouse</h3></a>\\n</div>\\n<div class=\"wp-block-body\">\\n<div class=\"wp-block-img text-center\">\\n<a href=\"/for-rent/commercial/warehouses/lagos/lagos-island/cms/888867-3230sqft-warehouse\" hidefocus=\"true\">\\n<div class=\"wp-block-img-container\">\\n<div class=\"wp-block-date-over property-visuals-mobile\">\\n<div>\\n<i class=\"fal fa-camera\"></i> &nbsp;3\\n</div>\\n</div>\\n<img itemprop=\"image\" class=\"sm-width-min-200-max-250 xs-width-min-200-max-350\" src=\"https://images.nigeriapropertycentre.com/properties/images/thumbs/888867/0604e9d6ec45dd-3230sqft-warehouse-tolet-warehouses-for-rent-cms-lagos-island-lagos.jpg\" alt=\"3230sqft Warehouse, Off Broad Street, C.m.s, Lagos Island, Lagos, Warehouse for Rent\" title=\"3230sqft Warehouse, Off Broad Street, C.m.s, Lagos Island, Lagos, Warehouse for Rent\">\\n</div>\\n</a>\\n<div class=\"text-center voffset-10 hidden property-visuals\">\\n<div>\\n<i class=\"fal fa-camera\"></i> &nbsp;3 Photos </div>\\n</div>\\n</div>\\n<div class=\"clearfix visible-xs-block\"></div>\\n<div class=\"wp-block-content clearfix text-xs-left text-sm-left\">\\n\\n\\n<a href=\"/for-rent/commercial/warehouses/lagos/lagos-island/cms/888867-3230sqft-warehouse\"><h4 class=\"content-title\">Warehouse for rent</h4></a>\\n<address class=\"voffset-bottom-10\"><strong><i class=\"fal fa-map-marker\"></i> &nbsp;Off Broad Street, C.M.S, Lagos Island, Lagos</strong></address>\\n<div class=\"description hidden-xs\" itemprop=\"description\">\\n<p>\\nWarehouse in lagos island. 3 year lease maximum.can do one year. call for deta...\\n</p>\\n<a href=\"/for-rent/commercial/warehouses/lagos/lagos-island/cms/888867-3230sqft-warehouse\">More details</a>\\n<br />\\n<br />\\n\\n<i class=\"fal fa-calendar added-on added-recently\"></i> &nbsp;<span class=\"added-on added-recently\">Added Yesterday</span>\\n</div>\\n<span class=\"pull-sm-left\">\\n<span content=\"NGN\" class=\"price\">&#8358;</span><span content=\"7500000.00\" class=\"price\">7,500,000</span><span class=\"period\"> per annum</span> </span>\\n<span class=\"pull-left\">\\n</span>\\n<span class=\"marketed-by pull-right hidden-xs hidden-sm text-right\">\\nLanduna Homes<br />\\n<strong>\\n<i class=\"fal fa-phone fa-rotate-90\"></i> &nbsp;07039458090 </strong>\\n</span>\\n</div>\\n</div>\\n<div class=\"wp-block-footer\">\\n<ul class=\"aux-info\"><li><i class=\"fal fa-square\"></i><span>300</span> <span>sqm</span> <span>Total Area</span></li><li id=\"fav-888867\" class=\"save-favourite-button\"><a href=\"javascript:void(0);\" data-type=\"showLoginMessage\"><i class=\"fal fa-heart\"></i> Save</li></a></ul> </div>\\n</div>\\n</div>\\n</div>\\n<div itemprop=\"itemListElement\" itemscope=\"\" itemtype=\"https://schema.org/ListItem\" class=\"row property-list \">\\n<meta itemprop=\"position\" content=\"2\">\\n<link itemprop=\"additionalType\" href=\"https://schema.org/RealEstateListing\">\\n<div class=\"col-md-12\">\\n<div class=\"wp-block property list\">\\n<div class=\"ribbon base-alt hidden-xs\"><span>Premium Listing</span></div>\\n<div class=\"wp-block-title hidden-xs\">\\n<a itemprop=\"url\" href=\"/for-rent/commercial/warehouses/lagos/lekki/abijo/861076-warehouse-measuring-480sqm-sitting-on-1300sqm\" hidefocus=\"true\"><h3 itemprop=\"name\">Warehouse Measuring 480sqm Sitting On 1300sqm</h3></a>\\n</div>\\n<div class=\"wp-block-body\">\\n<div class=\"wp-block-img text-center\">\\n<a href=\"/for-rent/commercial/warehouses/lagos/lekki/abijo/861076-warehouse-measuring-480sqm-sitting-on-1300sqm\" hidefocus=\"true\">\\n<div class=\"wp-block-img-container\">\\n<div class=\"wp-block-date-over property-visuals-mobile\">\\n<div>\\n<i class=\"fal fa-camera\"></i> &nbsp;10\\n</div>\\n</div>\\n<img itemprop=\"image\" class=\"sm-width-min-200-max-250 xs-width-min-200-max-350\" src=\"https://images.nigeriapropertycentre.com/properties/images/thumbs/861076/0602a4581e5f1d-warehouse-measuring-480sqm-sitting-on-1300sqm-warehouses-for-rent-abijo-lekki-lagos.jpg\" alt=\"Warehouse Measuring 480sqm Sitting on 1300sqm, Off Lekki Epe Expressway, Abijo, Lekki, Lagos, Warehouse for Rent\" title=\"Warehouse Measuring 480sqm Sitting on 1300sqm, Off Lekki Epe Expressway, Abijo, Lekki, Lagos, Warehouse for Rent\">\\n</div>\\n</a>\\n<div class=\"text-center voffset-10 hidden property-visuals\">\\n<div>\\n<i class=\"fal fa-camera\"></i> &nbsp;10 Photos </div>\\n</div>\\n</div>\\n<div class=\"clearfix visible-xs-block\"></div>\\n<div class=\"wp-block-content clearfix text-xs-left text-sm-left\">\\n\\n\\n<a href=\"/for-rent/commercial/warehouses/lagos/lekki/abijo/861076-warehouse-measuring-480sqm-sitting-on-1300sqm\"><h4 class=\"content-title\">Warehouse for rent</h4></a>\\n<address class=\"voffset-bottom-10\"><strong><i class=\"fal fa-map-marker\"></i> &nbsp;Off Lekki Epe Expressway, Abijo, Lekki, Lagos</strong></address>\\n<div class=\"description hidden-xs\" itemprop=\"description\">\\n<p>\\nThis a specious warehouse with large parking space\\nit comprises of 480sqm warehouse,1 open plan office space and 4 rooms service quarters\\nit has a large compound space that can park up to 20 cars\\nit has a deep borehole and a water treatment plant\\nit can be used for the following\\nschool\\nhospital\\nstorage facilities\\nchurch\\nand many other purp...\\n</p>\\n<a href=\"/for-rent/commercial/warehouses/lagos/lekki/abijo/861076-warehouse-measuring-480sqm-sitting-on-1300sqm\">More details</a>\\n<br />\\n<br />\\n\\n<i class=\"fal fa-calendar added-on\"></i> &nbsp;<span class=\"added-on\">Added on 15 Feb 2021</span>\\n</div>\\n<span class=\"pull-sm-left\">\\n<span content=\"NGN\" class=\"price\">&#8358;</span><span content=\"5000000.00\" class=\"price\">5,000,000</span><span class=\"period\"> per annum</span> </span>\\n<span class=\"pull-left\">\\n</span>\\n<span class=\"marketed-by pull-right hidden-xs hidden-sm text-right\">\\nLuch Properties And Investment Nigeria Limited<br />\\n<strong>\\n<i class=\"fal fa-phone fa-rotate-90\"></i> &nbsp;+2347062028957 </strong>\\n</span>\\n</div>\\n</div>\\n<div class=\"wp-block-footer\">\\n<ul class=\"aux-info\"><li><i class=\"fal fa-bath\"></i><span>2</span> <span>Bathrooms</span></li><li><i class=\"fal fa-toilet\"></i><span>4</span> <span>Toilets</span></li><li><i class=\"fal fa-car\"></i><span>20</span> <span>Parking Spaces</span></li><li><i class=\"fal fa-square\"></i><span>480</span> <span>sqm</span> <span>Total Area</span></li><li id=\"fav-861076\" class=\"save-favourite-button\"><a href=\"javascript:void(0);\" data-type=\"showLoginMessage\"><i class=\"fal fa-heart\"></i> Save</li></a></ul> </div>\\n</div>\\n</div>\\n</div>\\n<div itemprop=\"itemListElement\" itemscope=\"\" itemtype=\"https://schema.org/ListItem\" class=\"row property-list \">\\n<meta itemprop=\"position\" content=\"3\">\\n<link itemprop=\"additionalType\" href=\"https://schema.org/RealEstateListing\">\\n<div class=\"col-md-12\">\\n<div class=\"wp-block property list\">\\n<div class=\"ribbon base-alt hidden-xs\"><span>Premium Listing</span></div>\\n<div class=\"wp-block-title hidden-xs\">\\n<a itemprop=\"url\" href=\"/for-rent/commercial/warehouses/lagos/isolo/okota/868324-warehouse-capacity-of-8500-sqft-exclusive-compound\" hidefocus=\"true\"><h3 itemprop=\"name\">Warehouse Capacity Of 8,500 Sqft Exclusive Compound</h3></a>\\n</div>\\n<div class=\"wp-block-body\">\\n<div class=\"wp-block-img text-center\">\\n<a href=\"/for-rent/commercial/warehouses/lagos/isolo/okota/868324-warehouse-capacity-of-8500-sqft-exclusive-compound\" hidefocus=\"true\">\\n<div class=\"wp-block-img-container\">\\n<div class=\"wp-block-date-over property-visuals-mobile\">\\n<div>\\n<i class=\"fal fa-camera\"></i> &nbsp;7\\n</div>\\n</div>\\n<img itemprop=\"image\" class=\"sm-width-min-200-max-250 xs-width-min-200-max-350\" src=\"https://images.nigeriapropertycentre.com/properties/images/thumbs/868324/06033aaca1958e-warehouse-capacity-of-8500-sqft-exclusive-compound-warehouses-for-rent-okota-isolo-lagos.jpg\" alt=\"Warehouse Capacity of 8,500 Sqft Exclusive Compound, Okota, Isolo, Lagos, Warehouse for Rent\" title=\"Warehouse Capacity of 8,500 Sqft Exclusive Compound, Okota, Isolo, Lagos, Warehouse for Rent\">\\n</div>\\n</a>\\n<div class=\"text-center voffset-10 hidden property-visuals\">\\n<div>\\n<i class=\"fal fa-camera\"></i> &nbsp;7 Photos </div>\\n</div>\\n</div>\\n<div class=\"clearfix visible-xs-block\"></div>\\n<div class=\"wp-block-content clearfix text-xs-left text-sm-left\">\\n\\n\\n<a href=\"/for-rent/commercial/warehouses/lagos/isolo/okota/868324-warehouse-capacity-of-8500-sqft-exclusive-compound\"><h4 class=\"content-title\">Warehouse for rent</h4></a>\\n<address class=\"voffset-bottom-10\"><strong><i class=\"fal fa-map-marker\"></i> &nbsp;Okota, Isolo, Lagos</strong></address>\\n<div class=\"description hidden-xs\" itemprop=\"description\">\\n<p>\\nLocation: ago palace way okota\\nfor lease warehouse capacity of 8,500 sqft exclusive compound, concrete design all around, spacious compound good for manufacturing and storage at ago palace way okota lagos rent ...\\n</p>\\n<a href=\"/for-rent/commercial/warehouses/lagos/isolo/okota/868324-warehouse-capacity-of-8500-sqft-exclusive-compound\">More details</a>\\n<br />\\n<br />\\n\\n<i class=\"fal fa-calendar added-on\"></i> &nbsp;<span class=\"added-on\">Added on 22 Feb 2021</span>\\n</div>\\n<span class=\"pull-sm-left\">\\n<span content=\"NGN\" class=\"price\">&#8358;</span><span content=\"10000000.00\" class=\"price\">10,000,000</span><span class=\"period\"> per annum</span> </span>\\n<span class=\"pull-left\">\\n</span>\\n<span class=\"marketed-by pull-right hidden-xs hidden-sm text-right\">\\n360 Properties<br />\\n<strong>\\n<i class=\"fal fa-phone fa-rotate-90\"></i> &nbsp;08033648310 </strong>\\n</span>\\n</div>\\n</div>\\n<div class=\"wp-block-footer\">\\n<ul class=\"aux-info\"><li><i class=\"fal fa-home\"></i><span>850</span> <span>sqm</span> <span>Covered Area</span></li><li id=\"fav-868324\" class=\"save-favourite-button\"><a href=\"javascript:void(0);\" data-type=\"showLoginMessage\"><i class=\"fal fa-heart\"></i> Save</li></a></ul> </div>\\n</div>\\n</div>\\n</div>\\n<div itemprop=\"itemListElement\" itemscope=\"\" itemtype=\"https://schema.org/ListItem\" class=\"row property-list \">\\n<meta itemprop=\"position\" content=\"4\">\\n<link itemprop=\"additionalType\" href=\"https://schema.org/RealEstateListing\">\\n<div class=\"col-md-12\">\\n<div class=\"wp-block property list\">\\n<div class=\"ribbon base-alt hidden-xs\"><span>Premium Listing</span></div>\\n<div class=\"wp-block-title hidden-xs\">\\n<a itemprop=\"url\" href=\"/for-rent/commercial/warehouses/lagos/ikeja/oregun/630203-warehouse-measuring-3200sqm\" hidefocus=\"true\"><h3 itemprop=\"name\">Warehouse Measuring 3200sqm</h3></a>\\n</div>\\n<div class=\"wp-block-body\">\\n<div class=\"wp-block-img text-center\">\\n<a href=\"/for-rent/commercial/warehouses/lagos/ikeja/oregun/630203-warehouse-measuring-3200sqm\" hidefocus=\"true\">\\n<div class=\"wp-block-img-container\">\\n<div class=\"wp-block-date-over property-visuals-mobile\">\\n<div>\\n<i class=\"fal fa-camera\"></i> &nbsp;10\\n</div>\\n</div>\\n<img itemprop=\"image\" class=\"sm-width-min-200-max-250 xs-width-min-200-max-350\" src=\"https://images.nigeriapropertycentre.com/properties/images/thumbs/630203/05ecc3b35e8c7d-leasing-warehouse-measuring-3200sqm-at-oregun-warehouses-for-rent-oregun-ikeja-lagos.jpg\" alt=\"Warehouse Measuring 3200sqm, Oregun, Ikeja, Lagos, Warehouse for Rent\" title=\"Warehouse Measuring 3200sqm, Oregun, Ikeja, Lagos, Warehouse for Rent\">\\n</div>\\n</a>\\n<div class=\"text-center voffset-10 hidden property-visuals\">\\n<div>\\n<i class=\"fal fa-camera\"></i> &nbsp;10 Photos </div>\\n</div>\\n</div>\\n<div class=\"clearfix visible-xs-block\"></div>\\n<div class=\"wp-block-content clearfix text-xs-left text-sm-left\">\\n\\n\\n<a href=\"/for-rent/commercial/warehouses/lagos/ikeja/oregun/630203-warehouse-measuring-3200sqm\"><h4 class=\"content-title\">Warehouse for rent</h4></a>\\n<address class=\"voffset-bottom-10\"><strong><i class=\"fal fa-map-marker\"></i> &nbsp;Oregun, Ikeja, Lagos</strong></address>\\n<div class=\"description hidden-xs\" itemprop=\"description\">\\n<p>\\nLetting: 2 bay warehouse measuring 32000sqm at ikeja\\nprice: n12000 per sqm\\nservice charge: n1000 per sqm\\nagency commission: 10% of total rental consideration\\nlegal fee: 5% of total rental consideration\\nminimum lease tenure: 2 years (rental payment to be paid fully upfro...\\n</p>\\n<a href=\"/for-rent/commercial/warehouses/lagos/ikeja/oregun/630203-warehouse-measuring-3200sqm\">More details</a>\\n<br />\\n<br />\\n\\n<i class=\"fal fa-calendar added-on\"></i> &nbsp;<span class=\"added-on\">Added on 25 May 2020</span>\\n</div>\\n<span class=\"pull-sm-left\">\\n<span content=\"NGN\" class=\"price\">&#8358;</span><span content=\"12000.00\" class=\"price\">12,000</span><span class=\"period\"> per square meter / per annum</span> </span>\\n<span class=\"pull-left\">\\n</span>\\n<span class=\"marketed-by pull-right hidden-xs hidden-sm text-right\">\\nK2com Luxury Limited<br />\\n<strong>\\n<i class=\"fal fa-phone fa-rotate-90\"></i> &nbsp;234 809 402 5634 </strong>\\n</span>\\n</div>\\n</div>\\n<div class=\"wp-block-footer\">\\n<ul class=\"aux-info\"><li><i class=\"fal fa-toilet\"></i><span>4</span> <span>Toilets</span></li><li><i class=\"fal fa-home\"></i><span>3,200</span> <span>sqm</span> <span>Covered Area</span></li><li id=\"fav-630203\" class=\"save-favourite-button\"><a href=\"javascript:void(0);\" data-type=\"showLoginMessage\"><i class=\"fal fa-heart\"></i> Save</li></a></ul> </div>\\n</div>\\n</div>\\n</div>\\n<div itemprop=\"itemListElement\" itemscope=\"\" itemtype=\"https://schema.org/ListItem\" class=\"row property-list \">\\n<meta itemprop=\"position\" content=\"5\">\\n<link itemprop=\"additionalType\" href=\"https://schema.org/RealEstateListing\">\\n<div class=\"col-md-12\">\\n<div class=\"wp-block property list\">\\n<div class=\"ribbon base-alt hidden-xs\"><span>Premium Listing</span></div>\\n<div class=\"wp-block-title hidden-xs\">\\n<a itemprop=\"url\" href=\"/for-rent/commercial/warehouses/lagos/ikeja/862825-warehouse-measuring-25000m2\" hidefocus=\"true\"><h3 itemprop=\"name\">Warehouse Measuring 25000m2</h3></a>\\n</div>\\n<div class=\"wp-block-body\">\\n<div class=\"wp-block-img text-center\">\\n<a href=\"/for-rent/commercial/warehouses/lagos/ikeja/862825-warehouse-measuring-25000m2\" hidefocus=\"true\">\\n<div class=\"wp-block-img-container\">\\n<div class=\"wp-block-date-over property-visuals-mobile\">\\n<div>\\n<i class=\"fal fa-camera\"></i> &nbsp;20\\n</div>\\n</div>\\n<img itemprop=\"image\" class=\"sm-width-min-200-max-250 xs-width-min-200-max-350\" src=\"https://images.nigeriapropertycentre.com/properties/images/thumbs/862825/0602c0f0984542-warehouse-measuring-25000m2-warehouses-for-rent-ikeja-lagos.jpg\" alt=\"Warehouse Measuring 25000m2, Acme, Ikeja, Lagos, Warehouse for Rent\" title=\"Warehouse Measuring 25000m2, Acme, Ikeja, Lagos, Warehouse for Rent\">\\n</div>\\n</a>\\n<div class=\"text-center voffset-10 hidden property-visuals\">\\n<div>\\n<i class=\"fal fa-camera\"></i> &nbsp;20 Photos </div>\\n</div>\\n</div>\\n<div class=\"clearfix visible-xs-block\"></div>\\n<div class=\"wp-block-content clearfix text-xs-left text-sm-left\">\\n\\n\\n<a href=\"/for-rent/commercial/warehouses/lagos/ikeja/862825-warehouse-measuring-25000m2\"><h4 class=\"content-title\">Warehouse for rent</h4></a>\\n<address class=\"voffset-bottom-10\"><strong><i class=\"fal fa-map-marker\"></i> &nbsp;Acme, Ikeja, Lagos</strong></address>\\n<div class=\"description hidden-xs\" itemprop=\"description\">\\n<p>\\nExpanse of land measuring 27000m2 at with 6 bay warehouse available\\nrent 20k per square negotia...\\n</p>\\n<a href=\"/for-rent/commercial/warehouses/lagos/ikeja/862825-warehouse-measuring-25000m2\">More details</a>\\n<br />\\n<br />\\n\\n<i class=\"fal fa-calendar added-on\"></i> &nbsp;<span class=\"added-on\">Added on 16 Feb 2021</span>\\n</div>\\n<span class=\"pull-sm-left\">\\n<span content=\"NGN\" class=\"price\">&#8358;</span><span content=\"20000.00\" class=\"price\">20,000</span><span class=\"period\"> per square meter / per annum</span> </span>\\n<span class=\"pull-left\">\\n</span>\\n<span class=\"marketed-by pull-right hidden-xs hidden-sm text-right\">\\nJidafric Realtors<br />\\n<strong>\\n<i class=\"fal fa-phone fa-rotate-90\"></i> &nbsp;08038534163 </strong>\\n</span>\\n</div>\\n</div>\\n<div class=\"wp-block-footer\">\\n<ul class=\"aux-info\"><li><i class=\"fal fa-square\"></i><span>27,000</span> <span>sqm</span> <span>Total Area</span></li><li><i class=\"fal fa-home\"></i><span>27,000</span> <span>sqm</span> <span>Covered Area</span></li><li id=\"fav-862825\" class=\"save-favourite-button\"><a href=\"javascript:void(0);\" data-type=\"showLoginMessage\"><i class=\"fal fa-heart\"></i> Save</li></a></ul> </div>\\n</div>\\n</div>\\n</div>\\n<div itemprop=\"itemListElement\" itemscope=\"\" itemtype=\"https://schema.org/ListItem\" class=\"row property-list \">\\n<meta itemprop=\"position\" content=\"6\">\\n<link itemprop=\"additionalType\" href=\"https://schema.org/RealEstateListing\">\\n<div class=\"col-md-12\">\\n<div class=\"wp-block property list\">\\n<div class=\"ribbon base-alt hidden-xs\"><span>Premium Listing</span></div>\\n<div class=\"wp-block-title hidden-xs\">\\n<a itemprop=\"url\" href=\"/for-rent/commercial/warehouses/abuja/kado/877997-140-sqm-space\" hidefocus=\"true\"><h3 itemprop=\"name\">140 Sqm Space</h3></a>\\n</div>\\n<div class=\"wp-block-body\">\\n<div class=\"wp-block-img text-center\">\\n<a href=\"/for-rent/commercial/warehouses/abuja/kado/877997-140-sqm-space\" hidefocus=\"true\">\\n<div class=\"wp-block-img-container\">\\n<div class=\"wp-block-date-over property-visuals-mobile\">\\n<div>\\n<i class=\"fal fa-camera\"></i> &nbsp;5\\n</div>\\n</div>\\n<img itemprop=\"image\" class=\"sm-width-min-200-max-250 xs-width-min-200-max-350\" src=\"https://images.nigeriapropertycentre.com/properties/images/thumbs/877997/0603fab67eb3c9-140-sqm-space-warehouses-for-rent-kado-abuja.jpg\" alt=\"140 Sqm Space, Kado, Abuja, Warehouse for Rent\" title=\"140 Sqm Space, Kado, Abuja, Warehouse for Rent\">\\n</div>\\n</a>\\n<div class=\"text-center voffset-10 hidden property-visuals\">\\n<div>\\n<i class=\"fal fa-camera\"></i> &nbsp;5 Photos </div>\\n</div>\\n</div>\\n<div class=\"clearfix visible-xs-block\"></div>\\n<div class=\"wp-block-content clearfix text-xs-left text-sm-left\">\\n\\n\\n<a href=\"/for-rent/commercial/warehouses/abuja/kado/877997-140-sqm-space\"><h4 class=\"content-title\">Warehouse for rent</h4></a>\\n<address class=\"voffset-bottom-10\"><strong><i class=\"fal fa-map-marker\"></i> &nbsp;Kado, Abuja</strong></address>\\n<div class=\"description hidden-xs\" itemprop=\"description\">\\n<p>\\n140 sqm shop/ warehouse space for rent at kado district, property is in a secured and serene commercial infrastructure. it suitable for distribution center, storage ( furnitures, processed foods etc) retailing et...\\n</p>\\n<a href=\"/for-rent/commercial/warehouses/abuja/kado/877997-140-sqm-space\">More details</a>\\n<br />\\n<br />\\n\\n<i class=\"fal fa-calendar added-on\"></i> &nbsp;<span class=\"added-on\">Added on 03 Mar 2021</span>\\n</div>\\n<span class=\"pull-sm-left\">\\n<span content=\"NGN\" class=\"price\">&#8358;</span><span content=\"3500000.00\" class=\"price\">3,500,000</span><span class=\"period\"> per annum</span> </span>\\n<span class=\"pull-left\">\\n</span>\\n<span class=\"marketed-by pull-right hidden-xs hidden-sm text-right\">\\nCephas Brawn Services Limited (cbsl)<br />\\n<strong>\\n<i class=\"fal fa-phone fa-rotate-90\"></i> &nbsp;+2347061824051 </strong>\\n</span>\\n</div>\\n</div>\\n<div class=\"wp-block-footer\">\\n<ul class=\"aux-info\"><li class=\"blank-save-favourite-button\">&nbsp;</li><li id=\"fav-877997\" class=\"save-favourite-button\"><a href=\"javascript:void(0);\" data-type=\"showLoginMessage\"><i class=\"fal fa-heart\"></i> Save</li></a></ul> </div>\\n</div>\\n</div>\\n</div>\\n<div itemprop=\"itemListElement\" itemscope=\"\" itemtype=\"https://schema.org/ListItem\" class=\"row property-list \">\\n<meta itemprop=\"position\" content=\"7\">\\n<link itemprop=\"additionalType\" href=\"https://schema.org/RealEstateListing\">\\n<div class=\"col-md-12\">\\n<div class=\"wp-block property list\">\\n<div class=\"ribbon base-alt hidden-xs\"><span>Premium Listing</span></div>\\n\\n<div class=\"wp-block-title hidden-xs\">\\n<a itemprop=\"url\" href=\"/for-rent/commercial/warehouses/lagos/isolo/877731-warehouse-for-lease\" hidefocus=\"true\"><h3 itemprop=\"name\">Warehouse For Lease</h3></a>\\n</div>\\n<div class=\"wp-block-body\">\\n<div class=\"wp-block-img text-center\">\\n<a href=\"/for-rent/commercial/warehouses/lagos/isolo/877731-warehouse-for-lease\" hidefocus=\"true\">\\n<div class=\"wp-block-img-container\">\\n<div class=\"wp-block-date-over property-visuals-mobile\">\\n<div>\\n<i class=\"fal fa-camera\"></i> &nbsp;5\\n</div>\\n</div>\\n<img itemprop=\"image\" class=\"sm-width-min-200-max-250 xs-width-min-200-max-350\" src=\"https://images.nigeriapropertycentre.com/properties/images/thumbs/877731/0603f7c39aefca-warehouse-for-lease-warehouses-for-rent-isolo-lagos.jpg\" alt=\"Warehouse  for Lease, Isolo, Isolo, Lagos, Warehouse for Rent\" title=\"Warehouse  for Lease, Isolo, Isolo, Lagos, Warehouse for Rent\">\\n</div>\\n</a>\\n<div class=\"text-center voffset-10 hidden property-visuals\">\\n<div>\\n<i class=\"fal fa-camera\"></i> &nbsp;5 Photos </div>\\n</div>\\n</div>\\n<div class=\"clearfix visible-xs-block\"></div>\\n<div class=\"wp-block-content clearfix text-xs-left text-sm-left\">\\n\\n\\n<a href=\"/for-rent/commercial/warehouses/lagos/isolo/877731-warehouse-for-lease\"><h4 class=\"content-title\">Warehouse for rent</h4></a>\\n<address class=\"voffset-bottom-10\"><strong><i class=\"fal fa-map-marker\"></i> &nbsp;Isolo, Isolo, Lagos</strong></address>\\n<div class=\"description hidden-xs\" itemprop=\"description\">\\n<p>\\nDirect mandate for lease\\n15,000sqft warehouse with 6,500sqft concreted space for sun drying @ isolo industrial estate very close to the expressway.\\nrental value: n1,200/sqm\\ncall us today!!...\\n</p>\\n<a href=\"/for-rent/commercial/warehouses/lagos/isolo/877731-warehouse-for-lease\">More details</a>\\n<br />\\n<br />\\n\\n<i class=\"fal fa-calendar added-on\"></i> &nbsp;<span class=\"added-on\">Added on 03 Mar 2021</span>\\n</div>\\n<span class=\"pull-sm-left\">\\n<span content=\"NGN\" class=\"price\">&#8358;</span><span content=\"18000000.00\" class=\"price\">18,000,000</span><span class=\"period\"> per annum</span> </span>\\n<span class=\"pull-left\">\\n</span>\\n<span class=\"marketed-by pull-right hidden-xs hidden-sm text-right\">\\nVictor Adegunloye & Associates<br />\\n<strong>\\n<i class=\"fal fa-phone fa-rotate-90\"></i> &nbsp;08033839958 </strong>\\n</span>\\n</div>\\n</div>\\n<div class=\"wp-block-footer\">\\n<ul class=\"aux-info\"><li class=\"blank-save-favourite-button\">&nbsp;</li><li id=\"fav-877731\" class=\"save-favourite-button\"><a href=\"javascript:void(0);\" data-type=\"showLoginMessage\"><i class=\"fal fa-heart\"></i> Save</li></a></ul> </div>\\n</div>\\n</div>\\n</div>\\n<div itemprop=\"itemListElement\" itemscope=\"\" itemtype=\"https://schema.org/ListItem\" class=\"row property-list \">\\n<meta itemprop=\"position\" content=\"8\">\\n<link itemprop=\"additionalType\" href=\"https://schema.org/RealEstateListing\">\\n<div class=\"col-md-12\">\\n<div class=\"wp-block property list\">\\n<div class=\"ribbon base-alt hidden-xs\"><span>Premium Listing</span></div>\\n<div class=\"wp-block-title hidden-xs\">\\n<a itemprop=\"url\" href=\"/for-rent/commercial/warehouses/lagos/ikeja/ogba/875552-warehousecoldroom-measuring-804sqm\" hidefocus=\"true\"><h3 itemprop=\"name\">Warehouse/coldroom Measuring 804sqm</h3></a>\\n</div>\\n<div class=\"wp-block-body\">\\n<div class=\"wp-block-img text-center\">\\n<a href=\"/for-rent/commercial/warehouses/lagos/ikeja/ogba/875552-warehousecoldroom-measuring-804sqm\" hidefocus=\"true\">\\n<div class=\"wp-block-img-container\">\\n<div class=\"wp-block-date-over property-visuals-mobile\">\\n<div>\\n<i class=\"fal fa-camera\"></i> &nbsp;6\\n</div>\\n</div>\\n<img itemprop=\"image\" class=\"sm-width-min-200-max-250 xs-width-min-200-max-350\" src=\"https://images.nigeriapropertycentre.com/properties/images/thumbs/875552/0603cf9fddc4e9-warehousecoldroom-measuring-804sqm-warehouses-for-rent-ogba-ikeja-lagos.jpg\" alt=\"Warehouse/coldroom Measuring 804sqm, Ogba Industrial Estate, Ogba, Ikeja, Lagos, Warehouse for Rent\" title=\"Warehouse/coldroom Measuring 804sqm, Ogba Industrial Estate, Ogba, Ikeja, Lagos, Warehouse for Rent\">\\n</div>\\n</a>\\n<div class=\"text-center voffset-10 hidden property-visuals\">\\n<div>\\n<i class=\"fal fa-camera\"></i> &nbsp;6 Photos </div>\\n</div>\\n</div>\\n<div class=\"clearfix visible-xs-block\"></div>\\n<div class=\"wp-block-content clearfix text-xs-left text-sm-left\">\\n\\n\\n<a href=\"/for-rent/commercial/warehouses/lagos/ikeja/ogba/875552-warehousecoldroom-measuring-804sqm\"><h4 class=\"content-title\">Warehouse for rent</h4></a>\\n<address class=\"voffset-bottom-10\"><strong><i class=\"fal fa-map-marker\"></i> &nbsp;Ogba Industrial Estate, Ogba, Ikeja, Lagos</strong></address>\\n<div class=\"description hidden-xs\" itemprop=\"description\">\\n<p>\\nLeasing: warehouse/coldroom at ogba industrial estate\\nfeatures:\\nvery clean and well-maintained facility\\nbacked up with logistics support\\nwarehouse/coldroom space: 803sqm\\nlease price : n65,000 per sqm p.a\\nagency fee: 10%\\nlegal fee: 5%\\nplease note that service charge appl...\\n</p>\\n<a href=\"/for-rent/commercial/warehouses/lagos/ikeja/ogba/875552-warehousecoldroom-measuring-804sqm\">More details</a>\\n<br />\\n<br />\\n\\n<i class=\"fal fa-calendar added-on\"></i> &nbsp;<span class=\"added-on\">Added on 01 Mar 2021</span>\\n</div>\\n<span class=\"pull-sm-left\">\\n<span content=\"NGN\" class=\"price\">&#8358;</span><span content=\"65000.00\" class=\"price\">65,000</span><span class=\"period\"> per square meter / per annum</span> </span>\\n<span class=\"pull-left\">\\n</span>\\n<span class=\"marketed-by pull-right hidden-xs hidden-sm text-right\">\\nK2com Luxury Limited<br />\\n<strong>\\n<i class=\"fal fa-phone fa-rotate-90\"></i> &nbsp;234 809 402 5634 </strong>\\n</span>\\n</div>\\n</div>\\n<div class=\"wp-block-footer\">\\n<ul class=\"aux-info\"><li><i class=\"fal fa-home\"></i><span>803</span> <span>sqm</span> <span>Covered Area</span></li><li id=\"fav-875552\" class=\"save-favourite-button\"><a href=\"javascript:void(0);\" data-type=\"showLoginMessage\"><i class=\"fal fa-heart\"></i> Save</li></a></ul> </div>\\n</div>\\n</div>\\n</div>\\n<div itemprop=\"itemListElement\" itemscope=\"\" itemtype=\"https://schema.org/ListItem\" class=\"row property-list \">\\n<meta itemprop=\"position\" content=\"9\">\\n<link itemprop=\"additionalType\" href=\"https://schema.org/RealEstateListing\">\\n<div class=\"col-md-12\">\\n<div class=\"wp-block property list\">\\n<div class=\"ribbon base-alt hidden-xs\"><span>Premium Listing</span></div>\\n<div class=\"wp-block-title hidden-xs\">\\n<a itemprop=\"url\" href=\"/for-rent/commercial/warehouses/lagos/ikeja/ogba/875517-612sqm-warehouse-and-office-space\" hidefocus=\"true\"><h3 itemprop=\"name\">612sqm Warehouse And Office Space</h3></a>\\n</div>\\n<div class=\"wp-block-body\">\\n<div class=\"wp-block-img text-center\">\\n<a href=\"/for-rent/commercial/warehouses/lagos/ikeja/ogba/875517-612sqm-warehouse-and-office-space\" hidefocus=\"true\">\\n<div class=\"wp-block-img-container\">\\n<div class=\"wp-block-date-over property-visuals-mobile\">\\n<div>\\n<i class=\"fal fa-camera\"></i> &nbsp;6\\n</div>\\n</div>\\n<img itemprop=\"image\" class=\"sm-width-min-200-max-250 xs-width-min-200-max-350\" src=\"https://images.nigeriapropertycentre.com/properties/images/thumbs/875517/0603cf3d77a322-612sqm-warehouse-and-office-space-at-ogba-industrial-estate-warehouses-for-rent-ogba-ikeja-lagos.jpg\" alt=\"612sqm Warehouse and Office Space, Ogba Industrial Estate, Ogba, Ikeja, Lagos, Warehouse for Rent\" title=\"612sqm Warehouse and Office Space, Ogba Industrial Estate, Ogba, Ikeja, Lagos, Warehouse for Rent\">\\n</div>\\n</a>\\n<div class=\"text-center voffset-10 hidden property-visuals\">\\n<div>\\n<i class=\"fal fa-camera\"></i> &nbsp;6 Photos </div>\\n</div>\\n</div>\\n<div class=\"clearfix visible-xs-block\"></div>\\n<div class=\"wp-block-content clearfix text-xs-left text-sm-left\">\\n\\n\\n<a href=\"/for-rent/commercial/warehouses/lagos/ikeja/ogba/875517-612sqm-warehouse-and-office-space\"><h4 class=\"content-title\">Warehouse for rent</h4></a>\\n<address class=\"voffset-bottom-10\"><strong><i class=\"fal fa-map-marker\"></i> &nbsp;Ogba Industrial Estate, Ogba, Ikeja, Lagos</strong></address>\\n<div class=\"description hidden-xs\" itemprop=\"description\">\\n<p>\\nLeasing: warehouse with office space at ogba industrial estate\\nfeatures:\\nvery clean and well-maintained facility\\nbacked up with logistics support\\nwarehouse space: 586sqm\\noffice space: 26sqm\\nlease price (office and warehouse): n25,000 per sqm p.a\\nagency fee: 10%\\nlegal fee: 5%\\nplease note that service charge appl...\\n</p>\\n<a href=\"/for-rent/commercial/warehouses/lagos/ikeja/ogba/875517-612sqm-warehouse-and-office-space\">More details</a>\\n<br />\\n<br />\\n\\n<i class=\"fal fa-calendar added-on\"></i> &nbsp;<span class=\"added-on\">Added on 01 Mar 2021</span>\\n</div>\\n<span class=\"pull-sm-left\">\\n<span content=\"NGN\" class=\"price\">&#8358;</span><span content=\"25000.00\" class=\"price\">25,000</span><span class=\"period\"> per square meter / per annum</span> </span>\\n<span class=\"pull-left\">\\n</span>\\n<span class=\"marketed-by pull-right hidden-xs hidden-sm text-right\">\\nK2com Luxury Limited<br />\\n<strong>\\n<i class=\"fal fa-phone fa-rotate-90\"></i> &nbsp;234 809 402 5634 </strong>\\n</span>\\n</div>\\n</div>\\n<div class=\"wp-block-footer\">\\n<ul class=\"aux-info\"><li><i class=\"fal fa-home\"></i><span>612</span> <span>sqm</span> <span>Covered Area</span></li><li id=\"fav-875517\" class=\"save-favourite-button\"><a href=\"javascript:void(0);\" data-type=\"showLoginMessage\"><i class=\"fal fa-heart\"></i> Save</li></a></ul> </div>\\n</div>\\n</div>\\n</div>\\n<div itemprop=\"itemListElement\" itemscope=\"\" itemtype=\"https://schema.org/ListItem\" class=\"row property-list \">\\n<meta itemprop=\"position\" content=\"10\">\\n<link itemprop=\"additionalType\" href=\"https://schema.org/RealEstateListing\">\\n<div class=\"col-md-12\">\\n<div class=\"wp-block property list\">\\n<div class=\"ribbon base-alt hidden-xs\"><span>Premium Listing</span></div>\\n<div class=\"wp-block-title hidden-xs\">\\n<a itemprop=\"url\" href=\"/for-rent/commercial/warehouses/lagos/ikotun/igando/875066-warehouse\" hidefocus=\"true\"><h3 itemprop=\"name\">Warehouse</h3></a>\\n</div>\\n<div class=\"wp-block-body\">\\n<div class=\"wp-block-img text-center\">\\n<a href=\"/for-rent/commercial/warehouses/lagos/ikotun/igando/875066-warehouse\" hidefocus=\"true\">\\n<div class=\"wp-block-img-container\">\\n<div class=\"wp-block-date-over property-visuals-mobile\">\\n<div>\\n<i class=\"fal fa-camera\"></i> &nbsp;5\\n</div>\\n</div>\\n<img itemprop=\"image\" class=\"sm-width-min-200-max-250 xs-width-min-200-max-350\" src=\"https://images.nigeriapropertycentre.com/properties/images/thumbs/875066/0603ca37250b73-warehouse-at-igando-warehouses-for-rent-igando-ikotun-lagos.jpg\" alt=\"Warehouse, Igando Akesan, Igando, Ikotun, Lagos, Warehouse for Rent\" title=\"Warehouse, Igando Akesan, Igando, Ikotun, Lagos, Warehouse for Rent\">\\n</div>\\n</a>\\n<div class=\"text-center voffset-10 hidden property-visuals\">\\n<div>\\n<i class=\"fal fa-camera\"></i> &nbsp;5 Photos </div>\\n</div>\\n</div>\\n<div class=\"clearfix visible-xs-block\"></div>\\n<div class=\"wp-block-content clearfix text-xs-left text-sm-left\">\\n\\n\\n<a href=\"/for-rent/commercial/warehouses/lagos/ikotun/igando/875066-warehouse\"><h4 class=\"content-title\">Warehouse for rent</h4></a>\\n<address class=\"voffset-bottom-10\"><strong><i class=\"fal fa-map-marker\"></i> &nbsp;Igando Akesan, Igando, Ikotun, Lagos</strong></address>\\n<div class=\"description hidden-xs\" itemprop=\"description\">\\n<p>\\nA massive warehouse for muti purpose good location along the road we have different prices for more details contact...\\n</p>\\n<a href=\"/for-rent/commercial/warehouses/lagos/ikotun/igando/875066-warehouse\">More details</a>\\n<br />\\n<br />\\n\\n<i class=\"fal fa-calendar added-on\"></i> &nbsp;<span class=\"added-on\">Added on 01 Mar 2021</span>\\n</div>\\n<span class=\"pull-sm-left\">\\n<span content=\"NGN\" class=\"price\">&#8358;</span><span content=\"1500000.00\" class=\"price\">1,500,000</span><span class=\"period\"> per annum</span> </span>\\n<span class=\"pull-left\">\\n</span>\\n<span class=\"marketed-by pull-right hidden-xs hidden-sm text-right\">\\nBrokerlease Properties And Real Estate<br />\\n<strong>\\n<i class=\"fal fa-phone fa-rotate-90\"></i> &nbsp;08084833523 </strong>\\n</span>\\n</div>\\n</div>\\n<div class=\"wp-block-footer\">\\n<ul class=\"aux-info\"><li><i class=\"fal fa-bath\"></i><span>2</span> <span>Bathrooms</span></li><li><i class=\"fal fa-toilet\"></i><span>2</span> <span>Toilets</span></li><li><i class=\"fal fa-car\"></i><span>10</span> <span>Parking Spaces</span></li><li><i class=\"fal fa-square\"></i><span>1,288</span> <span>sqm</span> <span>Total Area</span></li><li id=\"fav-875066\" class=\"save-favourite-button\"><a href=\"javascript:void(0);\" data-type=\"showLoginMessage\"><i class=\"fal fa-heart\"></i> Save</li></a></ul> </div>\\n</div>\\n</div>\\n</div>\\n<div id=\"property-list-banner\" class=\"col-md-12 property-list-banner\">\\n\\n<div id=\\'div-gpt-ad-1471185312256-1\\' class=\"ad-750-120\">\\n<script>\\n                                            googletag.cmd.push(function() { googletag.display(\\'div-gpt-ad-1471185312256-1\\'); });\\n                                        </script>\\n</div>\\n</div>\\n<div itemprop=\"itemListElement\" itemscope=\"\" itemtype=\"https://schema.org/ListItem\" class=\"row property-list \">\\n<meta itemprop=\"position\" content=\"11\">\\n<link itemprop=\"additionalType\" href=\"https://schema.org/RealEstateListing\">\\n<div class=\"col-md-12\">\\n<div class=\"wp-block property list\">\\n<div class=\"ribbon base-alt hidden-xs\"><span>Premium Listing</span></div>\\n<div class=\"wp-block-title hidden-xs\">\\n<a itemprop=\"url\" href=\"/for-rent/commercial/warehouses/lagos/ikeja/oregun/873426-warehouse-measuring-32000sqft\" hidefocus=\"true\"><h3 itemprop=\"name\">Warehouse Measuring 32,000sqft</h3></a>\\n</div>\\n<div class=\"wp-block-body\">\\n<div class=\"wp-block-img text-center\">\\n<a href=\"/for-rent/commercial/warehouses/lagos/ikeja/oregun/873426-warehouse-measuring-32000sqft\" hidefocus=\"true\">\\n<div class=\"wp-block-img-container\">\\n<div class=\"wp-block-date-over property-visuals-mobile\">\\n<div>\\n<i class=\"fal fa-camera\"></i> &nbsp;3\\n</div>\\n</div>\\n<img itemprop=\"image\" class=\"sm-width-min-200-max-250 xs-width-min-200-max-350\" src=\"https://images.nigeriapropertycentre.com/properties/images/thumbs/873426/0604a44d71dd06-warehouse-measuring-32000sqft-warehouses-for-rent-oregun-ikeja-lagos.jpg\" alt=\"Warehouse Measuring 32,000sqft, Mobolaji Johnson Avenue, Oregun, Ikeja, Lagos, Warehouse for Rent\" title=\"Warehouse Measuring 32,000sqft, Mobolaji Johnson Avenue, Oregun, Ikeja, Lagos, Warehouse for Rent\">\\n</div>\\n</a>\\n<div class=\"text-center voffset-10 hidden property-visuals\">\\n<div>\\n<i class=\"fal fa-camera\"></i> &nbsp;3 Photos </div>\\n</div>\\n</div>\\n<div class=\"clearfix visible-xs-block\"></div>\\n<div class=\"wp-block-content clearfix text-xs-left text-sm-left\">\\n\\n\\n<a href=\"/for-rent/commercial/warehouses/lagos/ikeja/oregun/873426-warehouse-measuring-32000sqft\"><h4 class=\"content-title\">Warehouse for rent</h4></a>\\n<address class=\"voffset-bottom-10\"><strong><i class=\"fal fa-map-marker\"></i> &nbsp;Mobolaji Johnson Avenue, Oregun, Ikeja, Lagos</strong></address>\\n<div class=\"description hidden-xs\" itemprop=\"description\">\\n<p>\\nWarehouse measuring 32,000sqft at #900/sqft and #100/sqft as service charge per annum.\\nproximity to road network, minimum of 20hours electricity supply.\\nshared compound,\\ninbuilt office.\\nsecurity etc.\\nagency: 5%\\nlegal:...\\n</p>\\n<a href=\"/for-rent/commercial/warehouses/lagos/ikeja/oregun/873426-warehouse-measuring-32000sqft\">More details</a>\\n<br />\\n<br />\\n\\n<i class=\"fal fa-calendar added-on\"></i> &nbsp;<span class=\"added-on\">Added on 26 Feb 2021</span>\\n</div>\\n<span class=\"pull-sm-left\">\\n<span content=\"NGN\" class=\"price\">&#8358;</span><span content=\"900.00\" class=\"price\">900</span><span class=\"period\"> per square foot / per annum</span> </span>\\n<span class=\"pull-left\">\\n</span>\\n<span class=\"marketed-by pull-right hidden-xs hidden-sm text-right\">\\nKainos Consulting<br />\\n<strong>\\n<i class=\"fal fa-phone fa-rotate-90\"></i> &nbsp;+2348087982355 </strong>\\n</span>\\n</div>\\n</div>\\n<div class=\"wp-block-footer\">\\n<ul class=\"aux-info\"><li class=\"blank-save-favourite-button\">&nbsp;</li><li id=\"fav-873426\" class=\"save-favourite-button\"><a href=\"javascript:void(0);\" data-type=\"showLoginMessage\"><i class=\"fal fa-heart\"></i> Save</li></a></ul> </div>\\n</div>\\n</div>\\n</div>\\n<div itemprop=\"itemListElement\" itemscope=\"\" itemtype=\"https://schema.org/ListItem\" class=\"row property-list \">\\n<meta itemprop=\"position\" content=\"12\">\\n<link itemprop=\"additionalType\" href=\"https://schema.org/RealEstateListing\">\\n<div class=\"col-md-12\">\\n<div class=\"wp-block property list\">\\n<div class=\"ribbon base-alt hidden-xs\"><span>Premium Listing</span></div>\\n<div class=\"wp-block-title hidden-xs\">\\n<a itemprop=\"url\" href=\"/for-rent/commercial/warehouses/ogun/ifo/alagbole/872861-executive-warehouse-450-sqm-for-storage\" hidefocus=\"true\"><h3 itemprop=\"name\">Executive Warehouse 450 Sqm For Storage</h3></a>\\n</div>\\n<div class=\"wp-block-body\">\\n<div class=\"wp-block-img text-center\">\\n<a href=\"/for-rent/commercial/warehouses/ogun/ifo/alagbole/872861-executive-warehouse-450-sqm-for-storage\" hidefocus=\"true\">\\n<div class=\"wp-block-img-container\">\\n<div class=\"wp-block-date-over property-visuals-mobile\">\\n<div>\\n<i class=\"fal fa-camera\"></i> &nbsp;9\\n</div>\\n</div>\\n<img itemprop=\"image\" class=\"sm-width-min-200-max-250 xs-width-min-200-max-350\" src=\"https://images.nigeriapropertycentre.com/properties/images/thumbs/872861/06038dd0c6ec1c-executive-warehouse-450-sqm-for-storage-in-alagbole-warehouses-for-rent-alagbole-ifo-ogun.jpeg\" alt=\"Executive Warehouse 450 Sqm for Storage, Alagbole, Ifo, Ogun, Warehouse for Rent\" title=\"Executive Warehouse 450 Sqm for Storage, Alagbole, Ifo, Ogun, Warehouse for Rent\">\\n</div>\\n</a>\\n<div class=\"text-center voffset-10 hidden property-visuals\">\\n<div>\\n<i class=\"fal fa-camera\"></i> &nbsp;9 Photos </div>\\n</div>\\n</div>\\n<div class=\"clearfix visible-xs-block\"></div>\\n<div class=\"wp-block-content clearfix text-xs-left text-sm-left\">\\n\\n\\n<a href=\"/for-rent/commercial/warehouses/ogun/ifo/alagbole/872861-executive-warehouse-450-sqm-for-storage\"><h4 class=\"content-title\">Warehouse for rent</h4></a>\\n<address class=\"voffset-bottom-10\"><strong><i class=\"fal fa-map-marker\"></i> &nbsp;Alagbole, Ifo, Ogun</strong></address>\\n<div class=\"description hidden-xs\" itemprop=\"description\">\\n<p>\\nExecutive warehouse measuring 450sqm up and down with 3 exclusive office for storage in a good and secured environment\\nlocation ::alagbole by katie plaza\\npric...\\n</p>\\n<a href=\"/for-rent/commercial/warehouses/ogun/ifo/alagbole/872861-executive-warehouse-450-sqm-for-storage\">More details</a>\\n<br />\\n<br />\\n\\n<i class=\"fal fa-calendar added-on\"></i> &nbsp;<span class=\"added-on\">Added on 26 Feb 2021</span>\\n</div>\\n<span class=\"pull-sm-left\">\\n<span content=\"NGN\" class=\"price\">&#8358;</span><span content=\"1000000.00\" class=\"price\">1,000,000</span><span class=\"period\"> per annum</span> </span>\\n<span class=\"pull-left\">\\n</span>\\n<span class=\"marketed-by pull-right hidden-xs hidden-sm text-right\">\\nFreedom Homes<br />\\n<strong>\\n<i class=\"fal fa-phone fa-rotate-90\"></i> &nbsp;08033195765 </strong>\\n</span>\\n</div>\\n</div>\\n<div class=\"wp-block-footer\">\\n<ul class=\"aux-info\"><li class=\"blank-save-favourite-button\">&nbsp;</li><li id=\"fav-872861\" class=\"save-favourite-button\"><a href=\"javascript:void(0);\" data-type=\"showLoginMessage\"><i class=\"fal fa-heart\"></i> Save</li></a></ul> </div>\\n</div>\\n</div>\\n</div>\\n<div itemprop=\"itemListElement\" itemscope=\"\" itemtype=\"https://schema.org/ListItem\" class=\"row property-list \">\\n<meta itemprop=\"position\" content=\"13\">\\n<link itemprop=\"additionalType\" href=\"https://schema.org/RealEstateListing\">\\n<div class=\"col-md-12\">\\n<div class=\"wp-block property list\">\\n<div class=\"ribbon base-alt hidden-xs\"><span>Premium Listing</span></div>\\n<div class=\"wp-block-title hidden-xs\">\\n<a itemprop=\"url\" href=\"/for-rent/commercial/warehouses/lagos/ojo/satellite-town/589069-warehouse-capacity-of-57000-sqft-with-office\" hidefocus=\"true\"><h3 itemprop=\"name\">Warehouse Capacity Of 57,000 Sqft With Office</h3></a>\\n</div>\\n<div class=\"wp-block-body\">\\n<div class=\"wp-block-img text-center\">\\n<a href=\"/for-rent/commercial/warehouses/lagos/ojo/satellite-town/589069-warehouse-capacity-of-57000-sqft-with-office\" hidefocus=\"true\">\\n<div class=\"wp-block-img-container\">\\n <div class=\"wp-block-date-over property-visuals-mobile\">\\n<div>\\n<i class=\"fal fa-camera\"></i> &nbsp;10\\n</div>\\n</div>\\n<img itemprop=\"image\" class=\"sm-width-min-200-max-250 xs-width-min-200-max-350\" src=\"https://images.nigeriapropertycentre.com/properties/images/thumbs/589069/05e5dc88cd91e7-warehouse-capacity-of-57000-sqft-with-office-warehouses-for-rent-satellite-town-ojo-lagos.jpg\" alt=\"Warehouse Capacity of 57,000 Sqft with Office, Satellite Town, Ojo, Lagos, Warehouse for Rent\" title=\"Warehouse Capacity of 57,000 Sqft with Office, Satellite Town, Ojo, Lagos, Warehouse for Rent\">\\n</div>\\n</a>\\n<div class=\"text-center voffset-10 hidden property-visuals\">\\n<div>\\n<i class=\"fal fa-camera\"></i> &nbsp;10 Photos </div>\\n</div>\\n</div>\\n<div class=\"clearfix visible-xs-block\"></div>\\n<div class=\"wp-block-content clearfix text-xs-left text-sm-left\">\\n\\n\\n<a href=\"/for-rent/commercial/warehouses/lagos/ojo/satellite-town/589069-warehouse-capacity-of-57000-sqft-with-office\"><h4 class=\"content-title\">Warehouse for rent</h4></a>\\n<address class=\"voffset-bottom-10\"><strong><i class=\"fal fa-map-marker\"></i> &nbsp;Satellite Town, Ojo, Lagos</strong></address>\\n<div class=\"description hidden-xs\" itemprop=\"description\">\\n<p>\\nLocation: navy town rd alakija,\\nfor lease warehouse capacity of 57,000 sqft with office space private compound, concrete design all around, spacious compound good for manufacturing and storage at navy town rd, satellite town, lagos. rent 1000 per sqft57,000,...\\n</p>\\n<a href=\"/for-rent/commercial/warehouses/lagos/ojo/satellite-town/589069-warehouse-capacity-of-57000-sqft-with-office\">More details</a>\\n<br />\\n<br />\\n\\n<i class=\"fal fa-calendar added-on\"></i> &nbsp;<span class=\"added-on\">Added on 03 Mar 2020</span>\\n</div>\\n<span class=\"pull-sm-left\">\\n<span content=\"NGN\" class=\"price\">&#8358;</span><span content=\"57000000.00\" class=\"price\">57,000,000</span><span class=\"period\"> per annum</span> </span>\\n<span class=\"pull-left\">\\n</span>\\n<span class=\"marketed-by pull-right hidden-xs hidden-sm text-right\">\\n360 Properties<br />\\n<strong>\\n<i class=\"fal fa-phone fa-rotate-90\"></i> &nbsp;08033648310 </strong>\\n</span>\\n</div>\\n</div>\\n<div class=\"wp-block-footer\">\\n<ul class=\"aux-info\"><li><i class=\"fal fa-bath\"></i><span>6</span> <span>Bathrooms</span></li><li><i class=\"fal fa-toilet\"></i><span>8</span> <span>Toilets</span></li><li><i class=\"fal fa-home\"></i><span>5,700</span> <span>sqm</span> <span>Covered Area</span></li><li id=\"fav-589069\" class=\"save-favourite-button\"><a href=\"javascript:void(0);\" data-type=\"showLoginMessage\"><i class=\"fal fa-heart\"></i> Save</li></a></ul> </div>\\n</div>\\n</div>\\n</div>\\n<div itemprop=\"itemListElement\" itemscope=\"\" itemtype=\"https://schema.org/ListItem\" class=\"row property-list \">\\n<meta itemprop=\"position\" content=\"14\">\\n<link itemprop=\"additionalType\" href=\"https://schema.org/RealEstateListing\">\\n<div class=\"col-md-12\">\\n<div class=\"wp-block property list\">\\n<div class=\"ribbon base-alt hidden-xs\"><span>Premium Listing</span></div>\\n<div class=\"wp-block-title hidden-xs\">\\n<a itemprop=\"url\" href=\"/for-rent/commercial/warehouses/lagos/ikeja/oregun/745774-warehouse-capacity-of-3000-sqft\" hidefocus=\"true\"><h3 itemprop=\"name\">Warehouse Capacity Of 3000 Sqft</h3></a>\\n</div>\\n<div class=\"wp-block-body\">\\n<div class=\"wp-block-img text-center\">\\n<a href=\"/for-rent/commercial/warehouses/lagos/ikeja/oregun/745774-warehouse-capacity-of-3000-sqft\" hidefocus=\"true\">\\n<div class=\"wp-block-img-container\">\\n<div class=\"wp-block-date-over property-visuals-mobile\">\\n<div>\\n<i class=\"fal fa-camera\"></i> &nbsp;5\\n</div>\\n</div>\\n<img itemprop=\"image\" class=\"sm-width-min-200-max-250 xs-width-min-200-max-350\" src=\"https://images.nigeriapropertycentre.com/properties/images/thumbs/745774/05f71bcd43dce3-warehouse-capacity-of-6500-sqft-with-office-capacity-of-3000-sqft-warehouses-for-rent-oregun-ikeja-lagos.jpg\" alt=\"Warehouse Capacity of 3000 Sqft, Oregun, Ikeja, Lagos, Warehouse for Rent\" title=\"Warehouse Capacity of 3000 Sqft, Oregun, Ikeja, Lagos, Warehouse for Rent\">\\n</div>\\n</a>\\n<div class=\"text-center voffset-10 hidden property-visuals\">\\n<div>\\n<i class=\"fal fa-camera\"></i> &nbsp;5 Photos </div>\\n</div>\\n</div>\\n<div class=\"clearfix visible-xs-block\"></div>\\n<div class=\"wp-block-content clearfix text-xs-left text-sm-left\">\\n\\n\\n<a href=\"/for-rent/commercial/warehouses/lagos/ikeja/oregun/745774-warehouse-capacity-of-3000-sqft\"><h4 class=\"content-title\">Warehouse for rent</h4></a>\\n<address class=\"voffset-bottom-10\"><strong><i class=\"fal fa-map-marker\"></i> &nbsp;Oregun, Ikeja, Lagos</strong></address>\\n<div class=\"description hidden-xs\" itemprop=\"description\">\\n<p>\\nLocation: oregun industrial area\\nfor lease warehouse capacity of 3000 sqft concrete design all around, spacious compound, only for storage, at oregun industrial area lagos. rent 6,000,...\\n</p>\\n<a href=\"/for-rent/commercial/warehouses/lagos/ikeja/oregun/745774-warehouse-capacity-of-3000-sqft\">More details</a>\\n<br />\\n<br />\\n\\n<i class=\"fal fa-calendar added-on\"></i> &nbsp;<span class=\"added-on\">Added on 28 Sep 2020</span>\\n</div>\\n<span class=\"pull-sm-left\">\\n<span content=\"NGN\" class=\"price\">&#8358;</span><span content=\"6000000.00\" class=\"price\">6,000,000</span><span class=\"period\"> per annum</span> </span>\\n<span class=\"pull-left\">\\n</span>\\n<span class=\"marketed-by pull-right hidden-xs hidden-sm text-right\">\\n360 Properties<br />\\n<strong>\\n<i class=\"fal fa-phone fa-rotate-90\"></i> &nbsp;08033648310 </strong>\\n</span>\\n</div>\\n</div>\\n<div class=\"wp-block-footer\">\\n<ul class=\"aux-info\"><li><i class=\"fal fa-bath\"></i><span>3</span> <span>Bathrooms</span></li><li><i class=\"fal fa-toilet\"></i><span>3</span> <span>Toilets</span></li><li><i class=\"fal fa-home\"></i><span>300</span> <span>sqm</span> <span>Covered Area</span></li><li id=\"fav-745774\" class=\"save-favourite-button\"><a href=\"javascript:void(0);\" data-type=\"showLoginMessage\"><i class=\"fal fa-heart\"></i> Save</li></a></ul> </div>\\n</div>\\n</div>\\n</div>\\n<div itemprop=\"itemListElement\" itemscope=\"\" itemtype=\"https://schema.org/ListItem\" class=\"row property-list \">\\n<meta itemprop=\"position\" content=\"15\">\\n<link itemprop=\"additionalType\" href=\"https://schema.org/RealEstateListing\">\\n<div class=\"col-md-12\">\\n<div class=\"wp-block property list\">\\n<div class=\"ribbon base-alt hidden-xs\"><span>Premium Listing</span></div>\\n<div class=\"wp-block-title hidden-xs\">\\n<a itemprop=\"url\" href=\"/for-rent/commercial/warehouses/ogun/berger-arepo/796943-newly-built-modern-warehouse-of-2500-sqmt-capacity\" hidefocus=\"true\"><h3 itemprop=\"name\">Newly Built Modern Warehouse Of 2500 Sqmt Capacity</h3></a>\\n</div>\\n<div class=\"wp-block-body\">\\n<div class=\"wp-block-img text-center\">\\n<a href=\"/for-rent/commercial/warehouses/ogun/berger-arepo/796943-newly-built-modern-warehouse-of-2500-sqmt-capacity\" hidefocus=\"true\">\\n<div class=\"wp-block-img-container\">\\n<div class=\"wp-block-date-over property-visuals-mobile\">\\n<div>\\n<i class=\"fal fa-camera\"></i> &nbsp;6\\n</div>\\n</div>\\n<img itemprop=\"image\" class=\"sm-width-min-200-max-250 xs-width-min-200-max-350\" src=\"https://images.nigeriapropertycentre.com/properties/images/thumbs/796943/05fc4908a8d802-newly-built-modern-warehouse-of-2500-sqmt-capacity-warehouses-for-rent-berger-arepo-ogun.jpg\" alt=\"Newly Built Modern Warehouse of 2500 Sqmt Capacity, Industrial Area, Berger, Arepo, Ogun, Warehouse for Rent\" title=\"Newly Built Modern Warehouse of 2500 Sqmt Capacity, Industrial Area, Berger, Arepo, Ogun, Warehouse for Rent\">\\n</div>\\n</a>\\n<div class=\"text-center voffset-10 hidden property-visuals\">\\n<div>\\n<i class=\"fal fa-camera\"></i> &nbsp;6 Photos </div>\\n</div>\\n</div>\\n<div class=\"clearfix visible-xs-block\"></div>\\n<div class=\"wp-block-content clearfix text-xs-left text-sm-left\">\\n\\n\\n<a href=\"/for-rent/commercial/warehouses/ogun/berger-arepo/796943-newly-built-modern-warehouse-of-2500-sqmt-capacity\"><h4 class=\"content-title\">Warehouse for rent</h4></a>\\n<address class=\"voffset-bottom-10\"><strong><i class=\"fal fa-map-marker\"></i> &nbsp;Industrial Area, Berger, Arepo, Ogun</strong></address>\\n<div class=\"description hidden-xs\" itemprop=\"description\">\\n<p>\\nFor lease modern warehouse of 2500 sqmt capacity, high roof, very specious compound at arepo industrial area along lagos ibadan express road 13,000 per sqmt rent 32...\\n</p>\\n<a href=\"/for-rent/commercial/warehouses/ogun/berger-arepo/796943-newly-built-modern-warehouse-of-2500-sqmt-capacity\">More details</a>\\n<br />\\n<br />\\n\\n<i class=\"fal fa-calendar added-on\"></i> &nbsp;<span class=\"added-on\">Added on 30 Nov 2020</span>\\n</div>\\n<span class=\"pull-sm-left\">\\n<span content=\"NGN\" class=\"price\">&#8358;</span><span content=\"32500000.00\" class=\"price\">32,500,000</span><span class=\"period\"> per annum</span> </span>\\n<span class=\"pull-left\">\\n</span>\\n<span class=\"marketed-by pull-right hidden-xs hidden-sm text-right\">\\n360 Properties<br />\\n<strong>\\n<i class=\"fal fa-phone fa-rotate-90\"></i> &nbsp;08033648310 </strong>\\n</span>\\n</div>\\n</div>\\n<div class=\"wp-block-footer\">\\n<ul class=\"aux-info\"><li><i class=\"fal fa-bath\"></i><span>2</span> <span>Bathrooms</span></li><li><i class=\"fal fa-toilet\"></i><span>4</span> <span>Toilets</span></li><li><i class=\"fal fa-home\"></i><span>2,500</span> <span>sqm</span> <span>Covered Area</span></li><li id=\"fav-796943\" class=\"save-favourite-button\"><a href=\"javascript:void(0);\" data-type=\"showLoginMessage\"><i class=\"fal fa-heart\"></i> Save</li></a></ul> </div>\\n</div>\\n</div>\\n</div>\\n<div itemprop=\"itemListElement\" itemscope=\"\" itemtype=\"https://schema.org/ListItem\" class=\"row property-list \">\\n<meta itemprop=\"position\" content=\"16\">\\n<link itemprop=\"additionalType\" href=\"https://schema.org/RealEstateListing\">\\n<div class=\"col-md-12\">\\n<div class=\"wp-block property list\">\\n<div class=\"ribbon base-alt hidden-xs\"><span>Premium Listing</span></div>\\n<div class=\"wp-block-title hidden-xs\">\\n<a itemprop=\"url\" href=\"/for-rent/commercial/warehouses/ogun/sango-ota/840719-2-bay-warehouse-of-20500-sqft-with-office-block\" hidefocus=\"true\"><h3 itemprop=\"name\">2 Bay Warehouse Of 20,500 Sqft With Office Block</h3></a>\\n</div>\\n<div class=\"wp-block-body\">\\n<div class=\"wp-block-img text-center\">\\n<a href=\"/for-rent/commercial/warehouses/ogun/sango-ota/840719-2-bay-warehouse-of-20500-sqft-with-office-block\" hidefocus=\"true\">\\n<div class=\"wp-block-img-container\">\\n<div class=\"wp-block-date-over property-visuals-mobile\">\\n<div>\\n<i class=\"fal fa-camera\"></i> &nbsp;12\\n</div>\\n</div>\\n<img itemprop=\"image\" class=\"sm-width-min-200-max-250 xs-width-min-200-max-350\" src=\"https://images.nigeriapropertycentre.com/properties/images/thumbs/840719/0600ecd647f930-2-bay-warehouse-of-20500-sqft-with-office-block-warehouses-for-rent-sango-ota-ogun.jpg\" alt=\"2 Bay Warehouse of 20,500 Sqft with Office Block, Sango Ota Industrial Area Ogun State, Sango Ota, Ogun, Warehouse for Rent\" title=\"2 Bay Warehouse of 20,500 Sqft with Office Block, Sango Ota Industrial Area Ogun State, Sango Ota, Ogun, Warehouse for Rent\">\\n</div>\\n</a>\\n<div class=\"text-center voffset-10 hidden property-visuals\">\\n<div>\\n<i class=\"fal fa-camera\"></i> &nbsp;12 Photos </div>\\n</div>\\n</div>\\n<div class=\"clearfix visible-xs-block\"></div>\\n<div class=\"wp-block-content clearfix text-xs-left text-sm-left\">\\n\\n\\n<a href=\"/for-rent/commercial/warehouses/ogun/sango-ota/840719-2-bay-warehouse-of-20500-sqft-with-office-block\"><h4 class=\"content-title\">Warehouse for rent</h4></a>\\n<address class=\"voffset-bottom-10\"><strong><i class=\"fal fa-map-marker\"></i> &nbsp;Sango Ota Industrial Area Ogun State, Sango Ota, Ogun</strong></address>\\n<div class=\"description hidden-xs\" itemprop=\"description\">\\n<p>\\nLocation: sango ota industrial area ogun state\\nfor lease 2 bay warehouse of 20,500 square feet high roof with office block 6000 sqft exclusive spacious compound good for storage and manufacturing at sango ota industrial area ogun state rent 14...\\n</p>\\n<a href=\"/for-rent/commercial/warehouses/ogun/sango-ota/840719-2-bay-warehouse-of-20500-sqft-with-office-block\">More details</a>\\n<br />\\n<br />\\n\\n<i class=\"fal fa-calendar added-on\"></i> &nbsp;<span class=\"added-on\">Added on 25 Jan 2021</span>\\n</div>\\n<span class=\"pull-sm-left\">\\n<span content=\"NGN\" class=\"price\">&#8358;</span><span content=\"14500000.00\" class=\"price\">14,500,000</span><span class=\"period\"> per annum</span> </span>\\n<span class=\"pull-left\">\\n</span>\\n<span class=\"marketed-by pull-right hidden-xs hidden-sm text-right\">\\n360 Properties<br />\\n<strong>\\n<i class=\"fal fa-phone fa-rotate-90\"></i> &nbsp;08033648310 </strong>\\n</span>\\n</div>\\n</div>\\n<div class=\"wp-block-footer\">\\n<ul class=\"aux-info\"><li><i class=\"fal fa-bath\"></i><span>12</span> <span>Bathrooms</span></li><li><i class=\"fal fa-toilet\"></i><span>18</span> <span>Toilets</span></li><li><i class=\"fal fa-home\"></i><span>2,650</span> <span>sqm</span> <span>Covered Area</span></li><li id=\"fav-840719\" class=\"save-favourite-button\"><a href=\"javascript:void(0);\" data-type=\"showLoginMessage\"><i class=\"fal fa-heart\"></i> Save</li></a></ul> </div>\\n</div>\\n</div>\\n</div>\\n<div itemprop=\"itemListElement\" itemscope=\"\" itemtype=\"https://schema.org/ListItem\" class=\"row property-list \">\\n<meta itemprop=\"position\" content=\"17\">\\n<link itemprop=\"additionalType\" href=\"https://schema.org/RealEstateListing\">\\n<div class=\"col-md-12\">\\n<div class=\"wp-block property list\">\\n<div class=\"ribbon base-alt hidden-xs\"><span>Premium Listing</span></div>\\n<div class=\"wp-block-title hidden-xs\">\\n<a itemprop=\"url\" href=\"/for-rent/commercial/warehouses/enugu/enugu/872452-massive-double-warehouse-of-2000sqm-with-3-rooms-office-spaces\" hidefocus=\"true\"><h3 itemprop=\"name\">Massive Double Warehouse Of 2000sqm With 3 Rooms Office Spaces</h3></a>\\n</div>\\n<div class=\"wp-block-body\">\\n<div class=\"wp-block-img text-center\">\\n<a href=\"/for-rent/commercial/warehouses/enugu/enugu/872452-massive-double-warehouse-of-2000sqm-with-3-rooms-office-spaces\" hidefocus=\"true\">\\n<div class=\"wp-block-img-container\">\\n <div class=\"wp-block-date-over property-visuals-mobile\">\\n<div>\\n<i class=\"fal fa-camera\"></i> &nbsp;9\\n</div>\\n</div>\\n<img itemprop=\"image\" class=\"sm-width-min-200-max-250 xs-width-min-200-max-350\" src=\"https://images.nigeriapropertycentre.com/properties/images/thumbs/872452/0603875a15b7ed-massive-double-warehouse-of-2000sqm-with-3-rooms-office-space-warehouses-for-rent-enugu-enugu.jpeg\" alt=\"Massive Double Warehouse of 2000sqm with 3 Rooms Office Spaces, Beside Peace Mass Factory Off Anamco Junction,airport Road, Enugu, Enugu, Warehouse for Rent\" title=\"Massive Double Warehouse of 2000sqm with 3 Rooms Office Spaces, Beside Peace Mass Factory Off Anamco Junction,airport Road, Enugu, Enugu, Warehouse for Rent\">\\n</div>\\n</a>\\n<div class=\"text-center voffset-10 hidden property-visuals\">\\n<div>\\n<i class=\"fal fa-camera\"></i> &nbsp;9 Photos </div>\\n</div>\\n</div>\\n<div class=\"clearfix visible-xs-block\"></div>\\n<div class=\"wp-block-content clearfix text-xs-left text-sm-left\">\\n\\n\\n<a href=\"/for-rent/commercial/warehouses/enugu/enugu/872452-massive-double-warehouse-of-2000sqm-with-3-rooms-office-spaces\"><h4 class=\"content-title\">Warehouse for rent</h4></a>\\n<address class=\"voffset-bottom-10\"><strong><i class=\"fal fa-map-marker\"></i> &nbsp;Beside Peace Mass Factory Off Anamco Junction,airport Road, Enugu, Enugu</strong></address>\\n<div class=\"description hidden-xs\" itemprop=\"description\">\\n<p>\\nThese massive double warehouse of 2000 square meters size demarcated into 2 equal parts of 1000sqm each & 3 spacious offices with 2 toilets & entrance gates are up for leasing for any desired lease year term by any willing company,it\\'s at a strategic location directly beside peace mass factory and behind lafarge cement company warehouse and just 2 mins drive to akanu ibiam international airport enugu.so call us today for further information on how to secure this warehou...\\n</p>\\n<a href=\"/for-rent/commercial/warehouses/enugu/enugu/872452-massive-double-warehouse-of-2000sqm-with-3-rooms-office-spaces\">More details</a>\\n<br />\\n<br />\\n\\n<i class=\"fal fa-calendar added-on\"></i> &nbsp;<span class=\"added-on\">Added on 26 Feb 2021</span>\\n</div>\\n<span class=\"pull-sm-left\">\\n<span content=\"NGN\" class=\"price\">&#8358;</span><span content=\"20000000.00\" class=\"price\">20,000,000</span><span class=\"period\"> per annum</span> </span>\\n<span class=\"pull-left\">\\n</span>\\n<span class=\"marketed-by pull-right hidden-xs hidden-sm text-right\">\\nDmarvinoz Properties Ltd<br />\\n<strong>\\n<i class=\"fal fa-phone fa-rotate-90\"></i> &nbsp;09090971117 </strong>\\n</span>\\n</div>\\n</div>\\n<div class=\"wp-block-footer\">\\n<ul class=\"aux-info\"><li><i class=\"fal fa-bath\"></i><span>2</span> <span>Bathrooms</span></li><li><i class=\"fal fa-toilet\"></i><span>2</span> <span>Toilets</span></li><li><i class=\"fal fa-car\"></i><span>20</span> <span>Parking Spaces</span></li><li><i class=\"fal fa-square\"></i><span>4,000</span> <span>sqm</span> <span>Total Area</span></li><li id=\"fav-872452\" class=\"save-favourite-button\"><a href=\"javascript:void(0);\" data-type=\"showLoginMessage\"><i class=\"fal fa-heart\"></i> Save</li></a></ul> </div>\\n</div>\\n</div>\\n</div>\\n<div itemprop=\"itemListElement\" itemscope=\"\" itemtype=\"https://schema.org/ListItem\" class=\"row property-list \">\\n<meta itemprop=\"position\" content=\"18\">\\n<link itemprop=\"additionalType\" href=\"https://schema.org/RealEstateListing\">\\n<div class=\"col-md-12\">\\n<div class=\"wp-block property list\">\\n<div class=\"ribbon base-alt hidden-xs\"><span>Premium Listing</span></div>\\n<div class=\"wp-block-title hidden-xs\">\\n<a itemprop=\"url\" href=\"/for-rent/commercial/warehouses/lagos/surulere/eric-moore/860085-nice-and-well-located-industrial-warehouse\" hidefocus=\"true\"><h3 itemprop=\"name\">Nice And Well Located Industrial Warehouse</h3></a>\\n</div>\\n<div class=\"wp-block-body\">\\n<div class=\"wp-block-img text-center\">\\n<a href=\"/for-rent/commercial/warehouses/lagos/surulere/eric-moore/860085-nice-and-well-located-industrial-warehouse\" hidefocus=\"true\">\\n<div class=\"wp-block-img-container\">\\n<div class=\"wp-block-date-over property-visuals-mobile\">\\n<div>\\n<i class=\"fal fa-camera\"></i> &nbsp;6\\n</div>\\n</div>\\n<img itemprop=\"image\" class=\"sm-width-min-200-max-250 xs-width-min-200-max-350\" src=\"https://images.nigeriapropertycentre.com/properties/images/thumbs/860085/0602a295f90eee-nice-and-well-located-industrial-warehouse-warehouses-for-rent-eric-moore-surulere-lagos.jpg\" alt=\"Nice and Well Located Industrial Warehouse, Eric Moore, Surulere, Lagos, Warehouse for Rent\" title=\"Nice and Well Located Industrial Warehouse, Eric Moore, Surulere, Lagos, Warehouse for Rent\">\\n</div>\\n</a>\\n<div class=\"text-center voffset-10 hidden property-visuals\">\\n<div>\\n<i class=\"fal fa-camera\"></i> &nbsp;6 Photos </div>\\n</div>\\n</div>\\n<div class=\"clearfix visible-xs-block\"></div>\\n<div class=\"wp-block-content clearfix text-xs-left text-sm-left\">\\n\\n\\n<a href=\"/for-rent/commercial/warehouses/lagos/surulere/eric-moore/860085-nice-and-well-located-industrial-warehouse\"><h4 class=\"content-title\">Warehouse for rent</h4></a>\\n<address class=\"voffset-bottom-10\"><strong><i class=\"fal fa-map-marker\"></i> &nbsp;Eric Moore, Surulere, Lagos</strong></address>\\n<div class=\"description hidden-xs\" itemprop=\"description\">\\n<p>\\nNice and well located industrial warehouse for rent in surulere with good security and easy access road for trucks and container discharge and loading\\nwarehouse size - 8500\\nprice - n1400 per annum for a square f...\\n</p>\\n<a href=\"/for-rent/commercial/warehouses/lagos/surulere/eric-moore/860085-nice-and-well-located-industrial-warehouse\">More details</a>\\n<br />\\n<br />\\n\\n<i class=\"fal fa-calendar added-on\"></i> &nbsp;<span class=\"added-on\">Added on 13 Feb 2021</span>\\n</div>\\n<span class=\"pull-sm-left\">\\n<span content=\"NGN\" class=\"price\">&#8358;</span><span content=\"1400.00\" class=\"price\">1,400</span><span class=\"period\"> per square foot / per annum</span> </span>\\n<span class=\"pull-left\">\\n</span>\\n<span class=\"marketed-by pull-right hidden-xs hidden-sm text-right\">\\nHairways Resources Company Nigeria<br />\\n<strong>\\n<i class=\"fal fa-phone fa-rotate-90\"></i> &nbsp;08186532571 </strong>\\n</span>\\n</div>\\n</div>\\n<div class=\"wp-block-footer\">\\n<ul class=\"aux-info\"><li><i class=\"fal fa-home\"></i><span>8,500</span> <span>sqm</span> <span>Covered Area</span></li><li id=\"fav-860085\" class=\"save-favourite-button\"><a href=\"javascript:void(0);\" data-type=\"showLoginMessage\"><i class=\"fal fa-heart\"></i> Save</li></a></ul> </div>\\n</div>\\n</div>\\n</div>\\n<div itemprop=\"itemListElement\" itemscope=\"\" itemtype=\"https://schema.org/ListItem\" class=\"row property-list \">\\n<meta itemprop=\"position\" content=\"19\">\\n<link itemprop=\"additionalType\" href=\"https://schema.org/RealEstateListing\">\\n<div class=\"col-md-12\">\\n<div class=\"wp-block property list\">\\n<div class=\"ribbon base-alt hidden-xs\"><span>Premium Listing</span></div>\\n<div class=\"wp-block-title hidden-xs\">\\n<a itemprop=\"url\" href=\"/for-rent/commercial/warehouses/lagos/ikeja/allen/870369-a-300-square-meter-hall-good-for-warehouse-or-church\" hidefocus=\"true\"><h3 itemprop=\"name\">A 300 Square Meter Hall Good For Warehouse Or Church</h3></a>\\n</div>\\n<div class=\"wp-block-body\">\\n<div class=\"wp-block-img text-center\">\\n<a href=\"/for-rent/commercial/warehouses/lagos/ikeja/allen/870369-a-300-square-meter-hall-good-for-warehouse-or-church\" hidefocus=\"true\">\\n<div class=\"wp-block-img-container\">\\n<div class=\"wp-block-date-over property-visuals-mobile\">\\n<div>\\n<i class=\"fal fa-camera\"></i> &nbsp;1\\n</div>\\n</div>\\n<img itemprop=\"image\" class=\"sm-width-min-200-max-250 xs-width-min-200-max-350\" src=\"https://images.nigeriapropertycentre.com/properties/images/thumbs/870369/06036287d89c92-a-300-square-meter-hall-good-for-warehouse-or-church-warehouses-for-rent-omole-phase-2-ikeja-lagos.jpg\" alt=\"a 300 Square Meter Hall Good for Warehouse Or Church, Awolowo Way, Allen, Ikeja, Lagos, Warehouse for Rent\" title=\"a 300 Square Meter Hall Good for Warehouse Or Church, Awolowo Way, Allen, Ikeja, Lagos, Warehouse for Rent\">\\n</div>\\n</a>\\n<div class=\"text-center voffset-10 hidden property-visuals\">\\n<div>\\n<i class=\"fal fa-camera\"></i> &nbsp;1 Photo </div>\\n</div>\\n</div>\\n<div class=\"clearfix visible-xs-block\"></div>\\n<div class=\"wp-block-content clearfix text-xs-left text-sm-left\">\\n\\n\\n<a href=\"/for-rent/commercial/warehouses/lagos/ikeja/allen/870369-a-300-square-meter-hall-good-for-warehouse-or-church\"><h4 class=\"content-title\">Warehouse for rent</h4></a>\\n<address class=\"voffset-bottom-10\"><strong><i class=\"fal fa-map-marker\"></i> &nbsp;Awolowo Way, Allen, Ikeja, Lagos</strong></address>\\n<div class=\"description hidden-xs\" itemprop=\"description\">\\n<p>\\nA very big 300 square meter hall good for warehouse or church use facing the major r...\\n</p>\\n<a href=\"/for-rent/commercial/warehouses/lagos/ikeja/allen/870369-a-300-square-meter-hall-good-for-warehouse-or-church\">More details</a>\\n<br />\\n<br />\\n\\n<i class=\"fal fa-calendar added-on\"></i> &nbsp;<span class=\"added-on\">Added on 24 Feb 2021</span>\\n</div>\\n<span class=\"pull-sm-left\">\\n<span content=\"NGN\" class=\"price\">&#8358;</span><span content=\"4500000.00\" class=\"price\">4,500,000</span><span class=\"period\"> per annum</span> </span>\\n<span class=\"pull-left\">\\n</span>\\n<span class=\"marketed-by pull-right hidden-xs hidden-sm text-right\">\\nJetobless Properties<br />\\n<strong>\\n<i class=\"fal fa-phone fa-rotate-90\"></i> &nbsp;08142123486 </strong>\\n</span>\\n</div>\\n</div>\\n<div class=\"wp-block-footer\">\\n<ul class=\"aux-info\"><li><i class=\"fal fa-bath\"></i><span>3</span> <span>Bathrooms</span></li><li><i class=\"fal fa-toilet\"></i><span>2</span> <span>Toilets</span></li><li><i class=\"fal fa-car\"></i><span>10</span> <span>Parking Spaces</span></li><li><i class=\"fal fa-home\"></i><span>3,000</span> <span>sqm</span> <span>Covered Area</span></li><li id=\"fav-870369\" class=\"save-favourite-button\"><a href=\"javascript:void(0);\" data-type=\"showLoginMessage\"><i class=\"fal fa-heart\"></i> Save</li></a></ul> </div>\\n</div>\\n</div>\\n</div>\\n<div itemprop=\"itemListElement\" itemscope=\"\" itemtype=\"https://schema.org/ListItem\" class=\"row property-list \">\\n<meta itemprop=\"position\" content=\"20\">\\n<link itemprop=\"additionalType\" href=\"https://schema.org/RealEstateListing\">\\n<div class=\"col-md-12\">\\n<div class=\"wp-block property list\">\\n<div class=\"ribbon base-alt hidden-xs\"><span>Premium Listing</span></div>\\n<div class=\"wp-block-title hidden-xs\">\\n<a itemprop=\"url\" href=\"/for-rent/commercial/warehouses/lagos/amuwo-odofin/870229-exclusive-warehouse-available\" hidefocus=\"true\"><h3 itemprop=\"name\">Exclusive Warehouse Available</h3></a>\\n</div>\\n<div class=\"wp-block-body\">\\n<div class=\"wp-block-img text-center\">\\n<a href=\"/for-rent/commercial/warehouses/lagos/amuwo-odofin/870229-exclusive-warehouse-available\" hidefocus=\"true\">\\n<div class=\"wp-block-img-container\">\\n<div class=\"wp-block-date-over property-visuals-mobile\">\\n<div>\\n<i class=\"fal fa-camera\"></i> &nbsp;5\\n</div>\\n</div>\\n<img itemprop=\"image\" class=\"sm-width-min-200-max-250 xs-width-min-200-max-350\" src=\"https://images.nigeriapropertycentre.com/properties/images/thumbs/870229/060360ab138fcb-exclusive-warehouse-available-warehouses-for-rent-amuwo-odofin-lagos.jpg\" alt=\"Exclusive Warehouse Available, Amuwo Odofin, Amuwo Odofin, Lagos, Warehouse for Rent\" title=\"Exclusive Warehouse Available, Amuwo Odofin, Amuwo Odofin, Lagos, Warehouse for Rent\">\\n</div>\\n</a>\\n<div class=\"text-center voffset-10 hidden property-visuals\">\\n<div>\\n<i class=\"fal fa-camera\"></i> &nbsp;5 Photos </div>\\n</div>\\n</div>\\n<div class=\"clearfix visible-xs-block\"></div>\\n<div class=\"wp-block-content clearfix text-xs-left text-sm-left\">\\n\\n\\n<a href=\"/for-rent/commercial/warehouses/lagos/amuwo-odofin/870229-exclusive-warehouse-available\"><h4 class=\"content-title\">Warehouse for rent</h4></a>\\n<address class=\"voffset-bottom-10\"><strong><i class=\"fal fa-map-marker\"></i> &nbsp;Amuwo Odofin, Amuwo Odofin, Lagos</strong></address>\\n<div class=\"description hidden-xs\" itemprop=\"description\">\\n<p>\\nDirect lease mandate\\nwarehouse in amuwo industrial estate in a self compound available for lease.\\nsize:1.200sqm\\nrent: n1,200/sqm(asking)\\nproperty also available for short let.\\ninterested??.\\ncontact us today...\\n</p>\\n<a href=\"/for-rent/commercial/warehouses/lagos/amuwo-odofin/870229-exclusive-warehouse-available\">More details</a>\\n<br />\\n<br />\\n\\n<i class=\"fal fa-calendar added-on\"></i> &nbsp;<span class=\"added-on\">Added on 24 Feb 2021</span>\\n</div>\\n<span class=\"pull-sm-left\">\\n<span content=\"NGN\" class=\"price\">&#8358;</span><span content=\"12000.00\" class=\"price\">12,000</span><span class=\"period\"> per square meter / per annum</span> </span>\\n<span class=\"pull-left\">\\n</span>\\n<span class=\"marketed-by pull-right hidden-xs hidden-sm text-right\">\\nVictor Adegunloye & Associates<br />\\n<strong>\\n<i class=\"fal fa-phone fa-rotate-90\"></i> &nbsp;08033839958 </strong>\\n</span>\\n</div>\\n</div>\\n<div class=\"wp-block-footer\">\\n<ul class=\"aux-info\"><li><i class=\"fal fa-home\"></i><span>1,200</span> <span>sqm</span> <span>Covered Area</span></li><li id=\"fav-870229\" class=\"save-favourite-button\"><a href=\"javascript:void(0);\" data-type=\"showLoginMessage\"><i class=\"fal fa-heart\"></i> Save</li></a></ul> </div>\\n</div>\\n</div>\\n</div>\\n</div>\\n<div class=\"row\">\\n<div class=\"col-sm-12 text-center voffset-bottom-30 voffset-15\">\\n<div id=\\'div-gpt-ad-1412976797528-0\\' class=\"ad-280\">\\n\\n<script async src=\"//pagead2.googlesyndication.com/pagead/js/adsbygoogle.js\"></script>\\n\\n<ins class=\"adsbygoogle\" style=\"display:inline-block;width:336px;height:280px\" data-ad-client=\"ca-pub-1521083131025199\" data-ad-slot=\"2870864722\"></ins>\\n<script>\\n                                        (adsbygoogle = window.adsbygoogle || []).push({});\\n                                    </script>\\n</div>\\n</div>\\n</div>\\n\\n<div class=\"wp-block default product-list-filters light-gray pPagination\">\\n<ul class=\"pagination pagination-style-2 pagination-lg\" role=\"navigation\">\\n<li class=\"active disabled\" aria-disabled=\"true\" aria-label=\"&laquo; Previous\">\\n<a class=\"activePage hidden-xs\" aria-hidden=\"true\">&lsaquo;</a>\\n</li>\\n<li class=\"active\" aria-current=\"page\"><a class=\"activePage hidden-xs\">1</a></li>\\n<li><a href=\"/for-rent/commercial/warehouses/showtype?page=2\">2</a></li>\\n<li><a href=\"/for-rent/commercial/warehouses/showtype?page=3\">3</a></li>\\n<li><a href=\"/for-rent/commercial/warehouses/showtype?page=4\">4</a></li>\\n<li><a href=\"/for-rent/commercial/warehouses/showtype?page=5\">5</a></li>\\n<li><a href=\"/for-rent/commercial/warehouses/showtype?page=6\">6</a></li>\\n<li><a href=\"/for-rent/commercial/warehouses/showtype?page=7\">7</a></li>\\n<li><a href=\"/for-rent/commercial/warehouses/showtype?page=8\">8</a></li>\\n<li><a href=\"/for-rent/commercial/warehouses/showtype?page=9\">9</a></li>\\n<li><a href=\"/for-rent/commercial/warehouses/showtype?page=10\">10</a></li>\\n<li><a href=\"/for-rent/commercial/warehouses/showtype?page=11\">11</a></li>\\n<li>\\n<a href=\"/for-rent/commercial/warehouses/showtype?page=2\" rel=\"next\" aria-label=\"Next &raquo;\">&rsaquo;</a>\\n</li>\\n</ul>\\n</div>\\n<div class=\"wp-block default product-details-links-panel light-gray property-social-icons hidden-lg hidden-md hidden-sm voffset-30\">\\n<span>Share this &nbsp;</span>\\n<a onclick=\"ga(\\'send\\', \\'event\\', \\'Property List\\', \\'Social Button Clicked\\', \\'Facebook\\');\" rel=\"nofollow\" target=\"_blank\" href=\"https://facebook.com/share.php?u=https%3A%2F%2Fnigeriapropertycentre.com%2Ffor-rent%2Fcommercial%2Fwarehouses%2Fshowtype%3Futm_source%3Dfacebook%26utm_medium%3Dsharing%26utm_campaign%3DSocial%2BButtons\"><i class=\"fab fa-facebook\"></i></a>\\n<a onclick=\"ga(\\'send\\', \\'event\\', \\'Property List\\', \\'Social Button Clicked\\', \\'Twitter\\');\" rel=\"nofollow\" target=\"_blank\" href=\"https://twitter.com/intent/tweet?text=Warehouses+for+Rent+in+Nigeria+%282%2C225+listings%29&url=https%3A%2F%2Fnigeriapropertycentre.com%2Ffor-rent%2Fcommercial%2Fwarehouses%2Fshowtype%3Futm_source%3Dtwitter%26utm_medium%3Dsharing%26utm_campaign%3DSocial%2BButtons\"><i class=\"fab fa-twitter\"></i></a>\\n<a onclick=\"ga(\\'send\\', \\'event\\', \\'Property List\\', \\'Social Button Clicked\\', \\'Whatsapp\\');\" rel=\"nofollow\" target=\"_blank\" href=\"whatsapp://send?text=Warehouses+for+Rent+in+Nigeria+%282%2C225+listings%29+-+https%3A%2F%2Fnigeriapropertycentre.com%2Ffor-rent%2Fcommercial%2Fwarehouses%2Fshowtype%3Futm_source%3Dwhatsapp%26utm_medium%3Dsharing%26utm_campaign%3DSocial%2BButtons\" data-action=\"share/whatsapp/share\"><i class=\"fab fa-whatsapp\"></i></a>\\n</div>\\n<div class=\"row voffset-0 hidden-lg hidden-md hidden-sm\">\\n<div class=\"col-md-12\">\\n<div class=\"section-title-wr voffset-bottom-0\">\\n<p class=\"voffset-bottom-0\">\\nThe average price of warehouses for rent in Nigeria is <strong>&#8358;8,000,000 per annum</strong>. The most expensive warehouse costs &#8358;151,000,000 per annum while the cheapest costs &#8358;153,000 per annum.\\n</p>\\n</div>\\n</div>\\n</div>\\n<div class=\"row\">\\n<div class=\"col-md-12 voffset-0\">\\n<div class=\"panel-group browse-locations property-list-faqs\">\\n<div class=\"panel panel-default\">\\n<div class=\"panel-heading text-center\">\\n<h4 class=\"panel-title\">\\n<a data-toggle=\"collapse\" data-parent=\"#browseLocations\" href=\"#collapseOne\" class=\"collapsed\">\\nFAQs&nbsp; <i style=\"font-size:120%\" class=\"fal fa-angle-up\"></i>\\n</a>\\n</h4>\\n</div>\\n<div id=\"collapseOne\" class=\"panel-collapse collapse\">\\n<div class=\"panel-body text-center\">\\n<div itemscope itemprop=\"mainEntity\" itemtype=\"https://schema.org/Question\">\\n<h3 class=\"section-title text-normal\" itemprop=\"name\">What is the average price of warehouses for rent in Nigeria?</h3>\\n<div itemscope itemprop=\"acceptedAnswer\" itemtype=\"https://schema.org/Answer\">\\n<div class=\"voffset-5\" itemprop=\"text\">\\nThe average price of warehouses for rent in Nigeria is <strong>₦8,000,000 per annum</strong>.\\n</div>\\n</div>\\n</div>\\n<div class=\"voffset-30\" itemscope itemprop=\"mainEntity\" itemtype=\"https://schema.org/Question\">\\n<h3 class=\"section-title text-normal\" itemprop=\"name\">What is the price of the most expensive warehouses for rent in Nigeria?</h3>\\n<div itemscope itemprop=\"acceptedAnswer\" itemtype=\"https://schema.org/Answer\">\\n<div class=\"voffset-5\" itemprop=\"text\">\\nThe price of the most expensive warehouses for rent in Nigeria is <strong>₦151,000,000 per annum</strong>.\\n</div>\\n</div>\\n</div>\\n<div class=\"voffset-30\" itemscope itemprop=\"mainEntity\" itemtype=\"https://schema.org/Question\">\\n<h3 class=\"section-title text-normal\" itemprop=\"name\">What is the price of the cheapest warehouses for rent in Nigeria?</h3>\\n<div itemscope itemprop=\"acceptedAnswer\" itemtype=\"https://schema.org/Answer\">\\n<div class=\"voffset-5\" itemprop=\"text\">\\nThe price of the cheapest warehouses for rent in Nigeria is <strong>₦153,000 per annum</strong>.\\n</div>\\n</div>\\n</div>\\n<div class=\"voffset-30\" itemscope itemprop=\"mainEntity\" itemtype=\"https://schema.org/Question\">\\n<h3 class=\"section-title text-normal\" itemprop=\"name\">How many warehouses for rent in Nigeria are available?</h3>\\n<div itemscope itemprop=\"acceptedAnswer\" itemtype=\"https://schema.org/Answer\">\\n<div class=\"voffset-5\" itemprop=\"text\">\\nThere are 2,225 listings and <strong>209</strong> available warehouses for rent in Nigeria.\\n<br /><p>You can view and filter the list of property by price, furnishing and recency.\\n</div>\\n</div>\\n</div>\\n</div>\\n</div>\\n</div>\\n</div>\\n</div>\\n</div>\\n</div>\\n<div class=\"col-md-4\">\\n<div class=\"sidebar\">\\n<div class=\"panel panel-default light-gray f13\">\\n<div class=\"panel-body\">\\nCan\\'t find what you\\'re looking for?&nbsp;\\n<a class=\"btn btn-alt btn-sm\" href=\"/requests/create\" onclick=\"ga(\\'send\\', \\'event\\', \\'Property List\\', \\'Post Request\\', \\'Top\\');\">\\n<span>Post a Request</span>\\n</a>\\n</div>\\n</div>\\n\\n<a id=\"filters\"></a>\\n<div id=\"advancedSearchFilters\" class=\"panel panel-default panel-sidebar-1 hidden-xs\">\\n<div class=\"panel-heading\"><h2><i class=\"fal fa-filter\"></i>&nbsp; Advanced Filter Options</h2></div>\\n<div class=\"panel-body\">\\n<form name=\"search_jsForm\" id=\"search_jsForm\" action=\"/search\" method=\"post\" class=\"form-light\">\\n<input type=\"hidden\" name=\"_token\" value=\"lyiGuRgFHiObxgUBrz6YLh2kAHtFyUWI84161g5J\">\\n<div class=\"row\">\\n<div class=\"col-xs-12\">\\n<div class=\"form-group\">\\n<label>Location</label>\\n<textarea data-prefix=\"\" name=\"propertyLocation\" placeholder=\"Enter a state, locality or area\" data-results=\"all\" style=\"height:36px;\" type=\"text\" class=\"form-control side-panel-search propertyLocation\" autocomplete=\"off\"></textarea><input type=\"hidden\" name=\"sid\" id=\"sid\" value=\"\"><input type=\"hidden\" name=\"lid\" id=\"lid\" value=\"\"><input type=\"hidden\" name=\"slid\" id=\"slid\" value=\"\"><input type=\"hidden\" name=\"n\" id=\"n\" value=\"\"><input type=\"hidden\" name=\"selectedLoc\" id=\"selectedLoc\"> <em for=\"propertyLocation\" class=\"invalid hidden\" id=\"no-location-found\">Location not found</em>\\n</div>\\n</div>\\n</div>\\n<div class=\"form-group\">\\n<label>Category</label>\\n<select name=\"cid\" id=\"cid\" class=\"form-control\" onchange=\"changeTypeList();changePriceList();\"><option value=\"0\">All Categories</option><option value=\"1\" selected=\"selected\">For Rent</option><option value=\"2\">For Sale</option><option value=\"5\">Joint Venture</option><option value=\"4\">Short Let</option></select> </div>\\n<div class=\"row\">\\n<div class=\"col-xs-6\">\\n<div class=\"form-group\">\\n<label>Type</label>\\n<select name=\"tid\" id=\"tid\" class=\"form-control\"><option value=\"0\">All Types</option><option value=\"1\">Flat</option><option value=\"2\">House</option><option value=\"5\">Land</option><option value=\"3\" selected=\"selected\">Commercial Property</option><option value=\"6\">Event Centre / Venue</option></select> </div>\\n</div>\\n<div class=\"col-xs-6\">\\n<div class=\"form-group\">\\n<label>Bedrooms</label>\\n<select name=\"bedrooms\" id=\"bedrooms\" class=\"form-control\"><option value=\"0\" selected=\"selected\">Any</option><option value=\"1\">1</option><option value=\"2\">2</option><option value=\"3\">3</option><option value=\"4\">4</option><option value=\"5\">5</option><option value=\"6\">6+</option></select> </div>\\n</div>\\n</div>\\n<div class=\"row\">\\n<div class=\"col-xs-6\">\\n<div class=\"form-group\">\\n<label>Min price</label>\\n<select name=\"minprice\" id=\"minprice\" class=\"form-control\"><option value=\"0\" selected=\"selected\">No Min</option><option value=\"100000\">₦ 100,000</option><option value=\"200000\">₦ 200,000</option><option value=\"300000\">₦ 300,000</option><option value=\"400000\">₦ 400,000</option><option value=\"500000\">₦ 500,000</option><option value=\"600000\">₦ 600,000</option><option value=\"700000\">₦ 700,000</option><option value=\"800000\">₦ 800,000</option><option value=\"900000\">₦ 900,000</option><option value=\"1000000\">₦ 1 Million</option><option value=\"2000000\">₦ 2 Million</option><option value=\"3000000\">₦ 3 Million</option><option value=\"5000000\">₦ 5 Million</option><option value=\"10000000\">₦ 10 Million</option><option value=\"20000000\">₦ 20 Million</option><option value=\"40000000\">₦ 40 Million</option><option value=\"60000000\">₦ 60 Million</option><option value=\"80000000\">₦ 80 Million</option><option value=\"100000000\">₦ 100 Million</option><option value=\"150000000\">₦ 150 Million</option></select> </div>\\n</div>\\n<div class=\"col-xs-6\">\\n<div class=\"form-group\">\\n<label>Max price</label>\\n<select name=\"maxprice\" id=\"maxprice\" class=\"form-control\"><option value=\"0\" selected=\"selected\">No Max</option><option value=\"100000\">₦ 100,000</option><option value=\"200000\">₦ 200,000</option><option value=\"300000\">₦ 300,000</option><option value=\"400000\">₦ 400,000</option><option value=\"500000\">₦ 500,000</option><option value=\"600000\">₦ 600,000</option><option value=\"700000\">₦ 700,000</option><option value=\"800000\">₦ 800,000</option><option value=\"900000\">₦ 900,000</option><option value=\"1000000\">₦ 1 Million</option><option value=\"2000000\">₦ 2 Million</option><option value=\"3000000\">₦ 3 Million</option><option value=\"5000000\">₦ 5 Million</option><option value=\"10000000\">₦ 10 Million</option><option value=\"20000000\">₦ 20 Million</option><option value=\"40000000\">₦ 40 Million</option><option value=\"60000000\">₦ 60 Million</option><option value=\"80000000\">₦ 80 Million</option><option value=\"100000000\">₦ 100 Million</option><option value=\"150000000\">₦ 150 Million</option></select> </div>\\n</div>\\n</div>\\n<div class=\"row\">\\n<div class=\"col-xs-6\">\\n<div class=\"form-group\">\\n<label>Furnishing</label>\\n<select name=\"furnished\" id=\"furnished\" class=\"form-control\"><option value=\"0\" selected=\"selected\">Any</option><option value=\"1\">Furnished</option><option value=\"2\">Unfurnished</option></select> </div>\\n</div>\\n<div class=\"col-xs-6\">\\n<div class=\"form-group\">\\n<label>Servicing</label>\\n<select name=\"serviced\" id=\"serviced\" class=\"form-control\"><option value=\"0\" selected=\"selected\">Any</option><option value=\"1\">Serviced</option></select> </div>\\n</div>\\n</div>\\n<div class=\"row\">\\n<div class=\"col-xs-6\">\\n<div class=\"form-group\">\\n<label>Shared</label>\\n<select name=\"shared\" id=\"shared\" class=\"form-control\"><option value=\"0\" selected=\"selected\">Any</option><option value=\"1\">Shared</option></select> </div>\\n</div>\\n<div class=\"col-xs-6\">\\n<div class=\"form-group\">\\n<label>Added to site</label>\\n<select name=\"added\" id=\"added\" class=\"form-control\"><option value=\"0\" selected=\"selected\">Anytime</option><option value=\"1\">Last 24 hours</option><option value=\"3\">Last 3 days</option><option value=\"7\">Last 7 days</option><option value=\"14\">Last 14 days</option><option value=\"30\">Last 30 days</option></select> </div>\\n</div>\\n</div>\\n<div class=\"row\">\\n<div class=\"col-xs-12\">\\n<div class=\"form-group\">\\n<label>Property Ref.</label>\\n<input name=\"ref\" id=\"ref\" class=\"form-control\" placeholder=\"e.g. 83256\" type=\"number\" min=\"0\" value=\"\" autocomplete=\"off\">\\n</div>\\n</div>\\n</div>\\n<div class=\"row\">\\n<div class=\"col-xs-12\">\\n<div class=\"form-group\">\\n<label>Keywords</label>\\n<input name=\"keywords\" id=\"keywords\" class=\"form-control\" placeholder=\"e.g. \\'pool\\' or \\'jacuzzi\\'\" value=\"\" autocomplete=\"off\">\\n</div>\\n</div>\\n</div>\\n<div class=\"row\">\\n<div class=\"col-sm-12\">\\n<button type=\"submit\" class=\"btn btn-block btn-base btn-icon btn-icon-right btn-search\">\\n<span>Search</span>\\n</button>\\n</div>\\n</div>\\n</form>\\n</div>\\n</div>\\n<div class=\"panel panel-default panel-sidebar-1 hidden-ma property-availability-count\">\\n<div class=\"panel-heading\"><h2><i class=\"fal fa-chart-bar\"></i>&nbsp; Available Property</h2></div>\\n<div class=\"panel-body\">\\n<h3>Currently available for rent in Nigeria</h3>\\n<div class=\"availability-stats\">\\n<table id=\"allProperty\" class=\"table voffset-20 voffset-bottom-20\"><tr><th>Property Type</th><th class=\"text-center\">Count</th></tr><tr><td><a href=\"/for-rent/flats-apartments/showtype\">Flats</a></td><td class=\"text-center\"><a href=\"/for-rent/flats-apartments/showtype\">9,602</a></td></tr><tr><td><a href=\"/for-rent/houses/showtype\">Houses</a></td><td class=\"text-center\"><a href=\"/for-rent/houses/showtype\">5,921</a></td></tr><tr><td><a href=\"/for-rent/land/showtype\">Land</a></td><td class=\"text-center\"><a href=\"/for-rent/land/showtype\">105</a></td></tr><tr><td><a href=\"/for-rent/commercial/showtype\">Commercial Property</a></td><td class=\"text-center\"><a href=\"/for-rent/commercial/showtype\">1,650</a></td></tr><tr><td><a href=\"/for-rent/event-centre-venue/showtype\">Event Centres / Venues</a></td><td class=\"text-center\"><a href=\"/for-rent/event-centre-venue/showtype\">85</a></td></tr></table><table id=\"flats-houses\" class=\"table\"><tr><th>Type</th><th class=\"text-center\">1 bed</th><th class=\"text-center\">2 bed</th><th class=\"text-center\">3 bed</th><th class=\"text-center\">4 bed</th><th class=\"text-center\">5 bed</th></tr><tr><td><a href=\"/for-rent/flats-apartments/showtype\">Flats</a></td><td class=\"text-center\"><a href=\"/for-rent/flats-apartments/showtype?bedrooms=1\">1,721</a></td><td class=\"text-center\"><a href=\"/for-rent/flats-apartments/showtype?bedrooms=2\">2,464</a></td><td class=\"text-center\"><a href=\"/for-rent/flats-apartments/showtype?bedrooms=3\">3,980</a></td><td class=\"text-center\"><a href=\"/for-rent/flats-apartments/showtype?bedrooms=4\">470</a></td><td class=\"text-center\"><a href=\"/for-rent/flats-apartments/showtype?bedrooms=5\">44</a></td></tr><tr><td><a href=\"/for-rent/houses/showtype\">Houses</a></td><td class=\"text-center\"><a href=\"/for-rent/houses/showtype?bedrooms=1\">91</a></td><td class=\"text-center\"><a href=\"/for-rent/houses/showtype?bedrooms=2\">301</a></td><td class=\"text-center\"><a href=\"/for-rent/houses/showtype?bedrooms=3\">1,078</a></td><td class=\"text-center\"><a href=\"/for-rent/houses/showtype?bedrooms=4\">3,071</a></td><td class=\"text-center\"><a href=\"/for-rent/houses/showtype?bedrooms=5\">1,133</a></td></tr></table><table id=\"land\" class=\"table voffset-20\"><tr><th>Land Type</th><th class=\"text-center\">Count</th></tr><tr><td><a href=\"/for-rent/land/residential-land/showtype\">Residential Land</a></td><td class=\"text-center\"><a href=\"/for-rent/land/residential-land/showtype\">12</a></td></tr><tr><td><a href=\"/for-rent/land/commercial-land/showtype\">Commercial Land</a></td><td class=\"text-center\"><a href=\"/for-rent/land/commercial-land/showtype\">39</a></td></tr><tr><td><a href=\"/for-rent/land/industrial-land/showtype\">Industrial Land</a></td><td class=\"text-center\"><a href=\"/for-rent/land/industrial-land/showtype\">4</a></td></tr><tr><td><a href=\"/for-rent/land/mixed-use-land/showtype\">Mixed-use Land</a></td><td class=\"text-center\"><a href=\"/for-rent/land/mixed-use-land/showtype\">32</a></td></tr><tr><td><a href=\"/for-rent/land/showtype\">Other Land</a></td><td class=\"text-center\"><a href=\"/for-rent/land/showtype\">12</a></td></tr><tr><td><a href=\"/for-rent/land/showtype\">All Land</a></td><td class=\"text-center\"><a href=\"/for-rent/land/showtype\">105</a></td></tr></table> </div>\\n</div>\\n</div>\\n<div class=\"panel panel-default panel-sidebar-1 hidden-xs hidden-ma\">\\n<div class=\"panel-heading\"><h2><i class=\"fal fa-share-alt\"></i>&nbsp; Share this property list</h2></div>\\n<div class=\"panel-body property-social-icons\">\\n<a onclick=\"ga(\\'send\\', \\'event\\', \\'Property List\\', \\'Social Button Clicked\\', \\'Facebook\\');\" rel=\"nofollow\" target=\"_blank\" href=\"https://facebook.com/share.php?u=https%3A%2F%2Fnigeriapropertycentre.com%2Ffor-rent%2Fcommercial%2Fwarehouses%2Fshowtype%3Futm_source%3Dfacebook%26utm_medium%3Dsharing%26utm_campaign%3DSocial%2BButtons\"><i class=\"fab fa-facebook\"></i></a>\\n<a onclick=\"ga(\\'send\\', \\'event\\', \\'Property List\\', \\'Social Button Clicked\\', \\'Twitter\\');\" rel=\"nofollow\" target=\"_blank\" href=\"https://twitter.com/intent/tweet?text=Warehouses+for+Rent+in+Nigeria+%282%2C225+listings%29&url=https%3A%2F%2Fnigeriapropertycentre.com%2Ffor-rent%2Fcommercial%2Fwarehouses%2Fshowtype%3Futm_source%3Dtwitter%26utm_medium%3Dsharing%26utm_campaign%3DSocial%2BButtons\"><i class=\"fab fa-twitter\"></i></a>\\n<a onclick=\"ga(\\'send\\', \\'event\\', \\'Property List\\', \\'Social Button Clicked\\', \\'Whatsapp\\');\" rel=\"nofollow\" target=\"_blank\" href=\"whatsapp://send?text=Warehouses+for+Rent+in+Nigeria+%282%2C225+listings%29+-+https%3A%2F%2Fnigeriapropertycentre.com%2Ffor-rent%2Fcommercial%2Fwarehouses%2Fshowtype%3Futm_source%3Dwhatsapp%26utm_medium%3Dsharing%26utm_campaign%3DSocial%2BButtons\" data-action=\"share/whatsapp/share\"><i class=\"fab fa-whatsapp\"></i></a>\\n</div>\\n</div>\\n<div class=\"panel panel-default panel-sidebar-1 hidden-ma hidden-xs\">\\n<div class=\"panel-heading\"><h2><i class=\"fal fa-link\"></i>&nbsp; Useful Links</h2></div>\\n<div class=\"panel-body\">\\n<ul class=\"fa-ul loffset-25\">\\n<li><span class=\"fa-li\"><i class=\"fal fa-users\"></i></span><a href=\"/agents\">View a list of estate agents in Nigeria</a></li>\\n<li><span class=\"fa-li\"><i class=\"fal fa-users\"></i></span><a href=\"/developers\">View a list of property developers in Nigeria</a></li>\\n</ul>\\n</div>\\n</div>\\n<div class=\"panel panel-default panel-sidebar-1 announcement hidden-ma hidden-xs\">\\n<div class=\"panel-body text-center\">\\n<a title=\"Market your property on Nigeria Property Centre\" href=\"/advertise-list-property\" onclick=\"ga(\\'send\\', \\'event\\', \\'Property List\\', \\'Advertise Property\\', \\'Title\\');\">\\n<h3 class=\"title\">Advertise/market your property on Nigeria Property Centre</h3>\\n</a>\\n<a title=\"Market your property on Nigeria Property Centre\" class=\"btn btn-alt voffset-15\" href=\"/advertise-list-property\" onclick=\"ga(\\'send\\', \\'event\\', \\'Property List\\', \\'Advertise Property\\', \\'Button\\');\">\\n<span>Get Started!</span>\\n</a>\\n</div>\\n</div>\\n<div class=\"panel panel-default no-border\">\\n<div class=\"panel-body text-center\">\\n<div id=\\'div-gpt-ad-1412977667118-0\\' class=\"ad-280\">\\n\\n<script async src=\"//pagead2.googlesyndication.com/pagead/js/adsbygoogle.js\"></script>\\n\\n<ins class=\"adsbygoogle\" style=\"display:inline-block;width:336px;height:280px\" data-ad-client=\"ca-pub-1521083131025199\" data-ad-slot=\"3297176728\"></ins>\\n<script>\\n                                            (adsbygoogle = window.adsbygoogle || []).push({});\\n                                        </script>\\n</div>\\n</div>\\n</div>\\n<div class=\"ad-fixed hidden-xs hidden-sm\">\\n<div class=\"panel panel-default no-border\" data-spy=\"affix\" data-offset-top=\"2479\" data-offset-bottom=\"650\">\\n<div class=\"panel-body text-center\">\\n<div id=\\'div-gpt-ad-1412976797528-2\\' class=\"ad-600\">\\n\\n<script async src=\"//pagead2.googlesyndication.com/pagead/js/adsbygoogle.js\"></script>\\n\\n<ins class=\"adsbygoogle\" style=\"display:inline-block;width:300px;height:600px\" data-ad-client=\"ca-pub-1521083131025199\" data-ad-slot=\"1519202725\"></ins>\\n<script>\\n                                                (adsbygoogle = window.adsbygoogle || []).push({});\\n                                            </script>\\n</div>\\n</div>\\n</div>\\n</div>\\n</div>\\n</div>\\n</div>\\n</div>\\n</div>\\n</section>\\n<div id=\"registerSignIn\" class=\"modal fade\">\\n<div class=\"modal-dialog modal-md\">\\n<div class=\"modal-content\">\\n<div class=\"modal-body text-center voffset-30 voffset-bottom-30\">\\n<h4>Sign in or register to save</h4>\\n<p class=\"modal-body text-center voffset-20 voffset-bottom-20\">\\nSave properties to your account and<br> sync across all your devices.\\n</p>\\n<p>\\n<a class=\"btn btn-alt btn-md\" href=\"/register/return-to-previous\">\\n<span>Register</span>\\n</a>\\n<a class=\"btn btn-base btn-md\" href=\"/login/return-to-previous\">\\n<span>Sign in</span>\\n</a>\\n</p>\\n</div>\\n</div>\\n</div>\\n</div>\\n<form id=\"processFavorite\" name=\"processFavorite\" action=\"\" method=\"post\">\\n<input name=\"_method\" id=\"_method\" value=\"\" type=\"hidden\">\\n<input name=\"product_id\" id=\"product_id\" value=\"\" type=\"hidden\">\\n</form>\\n<script type=\\'text/javascript\\'>\\n        //remarketing custom parameters\\n        var google_tag_params = {\\n            listing_pagetype: \"searchresults\"\\n        };\\n    </script>\\n<script>\\n        var pageTitle = \"Warehouses for Rent in  Nigeria\"\\n    </script>\\n<div class=\"container hidden-xs hidden-sm hidden-ma\"> <div class=\"row\"> <div class=\"col-sm-12\"><ol itemscope itemtype=\"http://schema.org/BreadcrumbList\" class=\"breadcrumb\"><li><a href=\"/\">Home</a></li><li itemprop=\"itemListElement\" itemscope itemtype=\"http://schema.org/ListItem\">\\n<a itemtype=\"http://schema.org/Thing\" itemprop=\"item\" href=\"/for-rent\">\\n<span itemprop=\"name\">For Rent</span>\\n</a>\\n<meta itemprop=\"position\" content=\"1\" />\\n</li><li itemprop=\"itemListElement\" itemscope itemtype=\"http://schema.org/ListItem\">\\n<a itemtype=\"http://schema.org/Thing\" itemprop=\"item\" href=\"/for-rent/commercial/showtype\">\\n<span itemprop=\"name\">Commercial Property</span>\\n</a>\\n<meta itemprop=\"position\" content=\"2\" />\\n</li><li itemprop=\"itemListElement\" itemscope itemtype=\"http://schema.org/ListItem\">\\n<a itemtype=\"http://schema.org/Thing\" itemprop=\"item\" href=\"/for-rent/commercial/warehouses/showtype\">\\n<span itemprop=\"name\">Warehouses</span>\\n</a>\\n<meta itemprop=\"position\" content=\"3\" />\\n</li></ol> </div> </div></div>\\n<div id=\"dynamicAlert\" class=\"modal fade\">\\n<div class=\"modal-dialog modal-md\">\\n<div class=\"modal-content\">\\n<div class=\"modal-header\">\\n<button type=\"button\" class=\"close\" data-dismiss=\"modal\">&times;</button>\\n<h4 class=\"modal-title\"></h4>\\n</div>\\n<div class=\"modal-body\">\\n<p>\\n</p>\\n</div>\\n<div class=\"modal-footer\">\\n<button onclick=\"\" type=\"button\" class=\"btn btn-alt\" data-dismiss=\"modal\">Cancel</button>\\n<button onclick=\"\" type=\"button\" class=\"btn btn-base accept\" data-dismiss=\"modal\">Delete</button>\\n</div>\\n</div>\\n</div>\\n</div>\\n<footer class=\"footer hidden-ma hidden-xs\">\\n<div class=\"container\">\\n<div class=\"row\">\\n<div class=\"col-md-3\">\\n<div class=\"col\">\\n<h4>About Us</h4>\\n<p>Nigeria Property Centre (NPC) is a leading property website in Nigeria with property listings for sale, rent and lease. We offer Nigerian property seekers an easy way to find details of property in Nigeria like homes, houses, lands, shops, office spaces and other commercial property. </p><a href=\"/about-us\" class=\"btn btn-base\">Learn more</a>\\n</div>\\n<div class=\"col voffset-40\">\\n<h4>Advertise with Us</h4>\\n<ul>\\n<li class=\"\"><a href=\"/advertise-list-property\">Advertise/Market Your Property</a></li>\\n<li class=\"\"><a href=\"/featured-real-estate-company-adverts\">Featured Real Estate Companies</a></li>\\n<li class=\"\"><a href=\"/banner-ads\">Place Banner Adverts</a></li>\\n</ul>\\n</div>\\n</div>\\n<div class=\"col-md-3 col-md-offset-1\">\\n<div class=\"col\">\\n<h4>Market Trends</h4>\\n<ul>\\n<li class=\"\"><a href=\"/market-trends/demand-trends\">Property Demand Trends</a></li>\\n<li class=\"\"><a href=\"/market-trends/average-prices\">Average Property Prices</a></li>\\n</ul>\\n</div>\\n<div class=\"col voffset-40\">\\n<h4>Popular Property</h4>\\n<ul>\\n<li class=\"\"><a href=\"/for-rent/flats-apartments/abuja/showtype\">Flats for rent in Abuja</a></li>\\n<li class=\"\"><a href=\"/for-rent/houses/abuja/showtype\">Houses for rent in Abuja</a></li>\\n<li class=\"\"><a href=\"/for-sale/houses/abuja/showtype\">Houses for sale in Abuja</a></li>\\n<li class=\"\"><a href=\"/for-sale/land/abuja/showtype\">Land for sale in Abuja</a></li>\\n<li class=\"\"><a href=\"/for-rent/flats-apartments/mini-flats/abuja/showtype\">Mini flats for rent in Abuja</a></li>\\n<li class=\"\"><a href=\"/for-rent/flats-apartments/self-contained/abuja/showtype\">Self contained for rent in Abuja</a></li>\\n<li class=\"\"><a href=\"/for-rent/flats-apartments/lagos/showtype\">Flats for rent in Lagos</a></li>\\n<li class=\"\"><a href=\"/for-rent/houses/lagos/showtype\">Houses for rent in Lagos</a></li>\\n<li class=\"\"><a href=\"/for-sale/houses/lagos/showtype\">Houses for sale in Lagos</a></li>\\n<li class=\"\"><a href=\"/for-sale/land/lagos/showtype\">Land for sale in Lagos</a></li>\\n<li class=\"\"><a href=\"/for-rent/flats-apartments/mini-flats/lagos/showtype\">Mini flats for rent in Lagos</a></li>\\n<li class=\"\"><a href=\"/for-rent/flats-apartments/self-contained/lagos/showtype\">Self contained for rent in Lagos</a></li>\\n</ul>\\n</div>\\n</div>\\n<div class=\"col-md-2\">\\n<div class=\"col\">\\n<h4>Companies</h4>\\n<ul>\\n<li class=\"\"><a href=\"/agents\">Estate Agents</a></li>\\n<li class=\"\"><a href=\"/developers\">Property Developers</a></li>\\n</ul>\\n</div>\\n<div class=\"col voffset-40\">\\n<h4>Useful Links</h4>\\n<ul>\\n<li class=\"\"><a href=\"/blog\">Property Blog</a></li>\\n<li class=\"\"><a href=\"/contact-us\">Contact Us</a></li>\\n</ul>\\n<br />\\n<ul>\\n<li class=\"\"><a href=\"/privacy-policy\">Privacy Policy</a></li>\\n<li class=\"\"><a href=\"/terms-of-use\">Terms of Use</a></li>\\n<li class=\"\"><a href=\"/frequently-asked-questions\">FAQs</a></li>\\n</ul>\\n</div>\\n</div>\\n<div class=\"col-md-3\">\\n<div class=\"col col-social-icons\">\\n<h4>Follow us</h4>\\n<a rel=\"nofollow\" target=\"_blank\" href=\"https://www.facebook.com/NigeriaPropertyCentre\"><i class=\"fab fa-facebook\"></i></a>\\n<a rel=\"nofollow\" target=\"_blank\" href=\"https://twitter.com/NGPropertyCNTR\"><i class=\"fab fa-twitter\"></i></a>\\n<a rel=\"nofollow\" target=\"_blank\" href=\"https://www.linkedin.com/company/nigeria-property-centre\"><i class=\"fab fa-linkedin\"></i></a>\\n<a rel=\"nofollow\" target=\"_blank\" href=\"https://www.youtube.com/channel/UC9vBbyiC89EOE6jw35m4HWA\"><i class=\"fab fa-youtube\"></i></a>\\n</div>\\n<div class=\"col\">\\n<a href=\"/mobile-apps\"><h4 class=\"voffset-bottom-10 voffset-30\">Download our Mobile App</h4></a>\\n<a rel=\"nofollow\" target=\"_blank\" href=\"https://play.google.com/store/apps/details?id=com.nigeriapropertycentre.app&amp;utm_source=global_co&amp;utm_medium=prtnr&amp;utm_content=Mar2515&amp;utm_campaign=PartBadge&amp;pcampaignid=MKT-Other-global-all-co-prtnr-py-PartBadge-Mar2515-1\"><img class=\"google-play\" width=\"150\" alt=\"Get it on Google Play\" src=\"https://play.google.com/intl/en_us/badges/images/generic/en_badge_web_generic.png\"></a>\\n<a rel=\"nofollow\" target=\"_blank\" href=\"https://itunes.apple.com/us/app/nigeria-property-centre/id1125813120\"><img width=\"130\" alt=\"Get it on App Store\" src=\"https://assets.nigeriapropertycentre.com/9ff8ac73-d2b6-4a72-9866-0282cd980b46/images/download-on-the-apple-app-store.svg\"></a>\\n</div>\\n<div class=\"col\">\\n<h4 class=\"voffset-40\">Other Regions</h4>\\n<ul>\\n<li class=\"\"><a target=\"_blank\" href=\"https://kenyapropertycentre.com\">Kenya Property Centre</a></li>\\n<li class=\"\"><a target=\"_blank\" href=\"https://ghanapropertycentre.com\">Ghana Property Centre</a></li>\\n<li class=\"\"><a target=\"_blank\" href=\"https://ugandapropertycentre.com\">Uganda Property Centre</a></li>\\n<li class=\"\"><a target=\"_blank\" href=\"https://ethiopiapropertycentre.com\">Ethiopia Property Centre</a></li>\\n</ul>\\n</div>\\n</div>\\n</div>\\n<hr>\\n<div class=\"row\">\\n<div class=\"col-lg-12 copyright\">\\n2021 © Nigeria Property Centre. All rights reserved.\\n</div>\\n</div>\\n</div>\\n</footer>\\n</div>\\n\\n<script type=\"text/javascript\" data-cfasync=\"false\">\\n    /* <![CDATA[ */\\n    var google_conversion_id = 923494074;\\n    var google_custom_params = window.google_tag_params;\\n    var google_remarketing_only = true;\\n    /* ]]> */\\n</script>\\n<div class=\"hidden-xs hidden-sm hidden-md hidden-lg\">\\n<script data-cfasync=\"false\" type=\"text/javascript\" src=\"//www.googleadservices.com/pagead/conversion.js\"></script>\\n</div>\\n<noscript>\\n    <div style=\"display:inline;\">\\n        <img height=\"1\" width=\"1\" style=\"border-style:none;\" alt=\"\" src=\"//googleads.g.doubleclick.net/pagead/viewthroughconversion/923494074/?value=0&amp;guid=ON&amp;script=0\"/>\\n    </div>\\n</noscript>\\n\\n<script type=\"text/javascript\">!function(e,t,n){function a(){var e=t.getElementsByTagName(\"script\")[0],n=t.createElement(\"script\");n.type=\"text/javascript\",n.async=!0,n.src=\"https://beacon-v2.helpscout.net\",e.parentNode.insertBefore(n,e)}if(e.Beacon=n=function(t,n,a){e.Beacon.readyQueue.push({method:t,options:n,data:a})},n.readyQueue=[],\"complete\"===t.readyState)return a();e.attachEvent?e.attachEvent(\"onload\",a):e.addEventListener(\"load\",a,!1)}(window,document,window.Beacon||function(){});</script>\\n<script type=\"text/javascript\">\\n    helpScoutBeaconId = \\'a3eead08-eee4-4878-99b3-0ce40858970f\\';\\n\\n    helpScoutBeaconIdentity = {\\n        name: null,\\n        email: null,\\n        UserType: null,\\n        Subscription: null,\\n        AccountID: null,\\n        signature: null\\n    };\\n\\n            var loadHelpScout = true;\\n    </script>\\n\\n<script type=\"text/javascript\" src=\"https://assets.nigeriapropertycentre.com/9ff8ac73-d2b6-4a72-9866-0282cd980b46/js/Cleave.js?id=38bf3496e4af059eb94b\"></script>\\n<script type=\"text/javascript\" src=\"https://assets.nigeriapropertycentre.com/9ff8ac73-d2b6-4a72-9866-0282cd980b46/js/cleave-phone.ng.js?id=52dde6301847277d0463\"></script>\\n<script data-cfasync=\"false\" type=\"text/javascript\" language=\"javascript\">googletag.cmd.push(function() {googletag.pubads().setTargeting(\"Category\", \"For Rent\");googletag.pubads().setTargeting(\"Type\", \"Commercial Property\");googletag.pubads().setTargeting(\"SubType\", \"Warehouse\");googletag.pubads().setTargeting(\"View\", \"Property List\");});</script>\\n<script data-cfasync=\"false\" type=\"text/javascript\">var google_tag_params = {Category: \\'For Rent\\',Type: \\'Commercial Property\\',SubType: \\'Warehouse\\'};</script>\\n<script>fbq(\\'track\\', \\'Search\\', {content_type: \\'home_listing\\',content_ids: [\\'888867\\',\\'861076\\',\\'868324\\',\\'630203\\',\\'862825\\',\\'877997\\',\\'877731\\',\\'875552\\',\\'875517\\',\\'875066\\',\\'873426\\',\\'872861\\',\\'589069\\',\\'745774\\',\\'796943\\',\\'840719\\',\\'872452\\',\\'860085\\',\\'870369\\',\\'870229\\'],availability: \\'for_rent\\',property_type: \\'other\\',country: \\'Nigeria\\',} );</script>\\n</body>\\n</html>\\n'"
            ]
          },
          "metadata": {
            "tags": []
          },
          "execution_count": 40
        }
      ]
    },
    {
      "cell_type": "code",
      "metadata": {
        "id": "MWni5BuZbgjY"
      },
      "source": [
        "# parse the downloaded data\r\n",
        "\r\n",
        "soup = BeautifulSoup(r.text,'html.parser')\r\n"
      ],
      "execution_count": null,
      "outputs": []
    },
    {
      "cell_type": "markdown",
      "metadata": {
        "id": "hnqwVuaQbrfV"
      },
      "source": [
        "<h1>Getting the neccessary features for our Dataframe;</h1>\r\n",
        "  <ul>\r\n",
        "    <li>Location</li>\r\n",
        "    <li>Price</li>\r\n",
        "    <li>Ps/Pa</li>\r\n",
        "    <li>Sqm</li>\r\n",
        "  </ul>\r\n",
        "<h1>Locations</h1>\r\n"
      ]
    },
    {
      "cell_type": "code",
      "metadata": {
        "id": "SEGYClLfgFOG"
      },
      "source": [
        "#storing the features:\r\n",
        "locations = soup.select('.voffset-bottom-10 > strong')"
      ],
      "execution_count": null,
      "outputs": []
    },
    {
      "cell_type": "code",
      "metadata": {
        "colab": {
          "base_uri": "https://localhost:8080/"
        },
        "id": "Rhq5SwFegFKf",
        "outputId": "0d32cb60-f151-452d-a7da-96499eef31d8"
      },
      "source": [
        "#Checking the length of stored feature per page\r\n",
        "len(locations)"
      ],
      "execution_count": null,
      "outputs": [
        {
          "output_type": "execute_result",
          "data": {
            "text/plain": [
              "20"
            ]
          },
          "metadata": {
            "tags": []
          },
          "execution_count": 43
        }
      ]
    },
    {
      "cell_type": "code",
      "metadata": {
        "colab": {
          "base_uri": "https://localhost:8080/"
        },
        "id": "iI1ZjCnAgFH3",
        "outputId": "58981541-1d70-4f1e-e8ee-32498a010293"
      },
      "source": [
        "#sampling\r\n",
        "\r\n",
        "locations[0]"
      ],
      "execution_count": null,
      "outputs": [
        {
          "output_type": "execute_result",
          "data": {
            "text/plain": [
              "<strong><i class=\"fal fa-map-marker\"></i>  Off Broad Street, C.M.S, Lagos Island, Lagos</strong>"
            ]
          },
          "metadata": {
            "tags": []
          },
          "execution_count": 44
        }
      ]
    },
    {
      "cell_type": "code",
      "metadata": {
        "id": "PaW9BcmOgFFa"
      },
      "source": [
        "#fixing all loaction into a list\r\n",
        "\r\n",
        "all_location = []\r\n",
        "for i in locations:\r\n",
        "    location = i.get_text().split()\r\n",
        "    location = location[-1]\r\n",
        "    location = location.replace(',', '')\r\n",
        "    all_location.append(location)"
      ],
      "execution_count": null,
      "outputs": []
    },
    {
      "cell_type": "code",
      "metadata": {
        "id": "S38uzoiBgFDR",
        "colab": {
          "base_uri": "https://localhost:8080/",
          "height": 35
        },
        "outputId": "fa239736-9bca-43ff-b55c-a72d9c17e995"
      },
      "source": [
        "#Confirming data inside list\r\n",
        "\r\n",
        "all_location[0]"
      ],
      "execution_count": null,
      "outputs": [
        {
          "output_type": "execute_result",
          "data": {
            "application/vnd.google.colaboratory.intrinsic+json": {
              "type": "string"
            },
            "text/plain": [
              "'Lagos'"
            ]
          },
          "metadata": {
            "tags": []
          },
          "execution_count": 46
        }
      ]
    },
    {
      "cell_type": "code",
      "metadata": {
        "id": "2nS3yH4AgFBi",
        "colab": {
          "base_uri": "https://localhost:8080/"
        },
        "outputId": "c4a5f61d-af43-463a-a5cd-cd881de5e40b"
      },
      "source": [
        "len(all_location)"
      ],
      "execution_count": null,
      "outputs": [
        {
          "output_type": "execute_result",
          "data": {
            "text/plain": [
              "20"
            ]
          },
          "metadata": {
            "tags": []
          },
          "execution_count": 47
        }
      ]
    },
    {
      "cell_type": "markdown",
      "metadata": {
        "id": "3HCo8zP_qjbD"
      },
      "source": [
        "<h1>Price</h1>"
      ]
    },
    {
      "cell_type": "code",
      "metadata": {
        "id": "XwBiZzroqq9Q"
      },
      "source": [
        "#Storing the features\r\n",
        "\r\n",
        "Price = soup.select('.price')"
      ],
      "execution_count": null,
      "outputs": []
    },
    {
      "cell_type": "code",
      "metadata": {
        "id": "U-B8VkvDsezz",
        "colab": {
          "base_uri": "https://localhost:8080/"
        },
        "outputId": "0888f242-68f7-4cff-b70f-487e92f92844"
      },
      "source": [
        "#checking for length of features\r\n",
        "\r\n",
        "len(Price)"
      ],
      "execution_count": null,
      "outputs": [
        {
          "output_type": "execute_result",
          "data": {
            "text/plain": [
              "40"
            ]
          },
          "metadata": {
            "tags": []
          },
          "execution_count": 49
        }
      ]
    },
    {
      "cell_type": "code",
      "metadata": {
        "id": "UPrBg0zvshs1",
        "colab": {
          "base_uri": "https://localhost:8080/"
        },
        "outputId": "4e32ef3b-a82d-49aa-df08-ecb07610728b"
      },
      "source": [
        "#sampling\r\n",
        "\r\n",
        "Price[0]"
      ],
      "execution_count": null,
      "outputs": [
        {
          "output_type": "execute_result",
          "data": {
            "text/plain": [
              "<span class=\"price\" content=\"NGN\">₦</span>"
            ]
          },
          "metadata": {
            "tags": []
          },
          "execution_count": 50
        }
      ]
    },
    {
      "cell_type": "code",
      "metadata": {
        "id": "X_opJ_zIszCu"
      },
      "source": [
        "#storing needed data into a Feature\r\n",
        "\r\n",
        "all_price = []\r\n",
        "for i,price in enumerate(Price):\r\n",
        "    if i % 2 != 0:\r\n",
        "        all_price.append(price.getText().replace('/year', ''))"
      ],
      "execution_count": null,
      "outputs": []
    },
    {
      "cell_type": "code",
      "metadata": {
        "id": "4T69-eoitw9M",
        "colab": {
          "base_uri": "https://localhost:8080/",
          "height": 35
        },
        "outputId": "5d9f760a-f03c-4180-f896-47e8a3f5e7f3"
      },
      "source": [
        "#Sampling \r\n",
        "\r\n",
        "all_price[0]"
      ],
      "execution_count": null,
      "outputs": [
        {
          "output_type": "execute_result",
          "data": {
            "application/vnd.google.colaboratory.intrinsic+json": {
              "type": "string"
            },
            "text/plain": [
              "'7,500,000'"
            ]
          },
          "metadata": {
            "tags": []
          },
          "execution_count": 52
        }
      ]
    },
    {
      "cell_type": "markdown",
      "metadata": {
        "id": "kHDtISUluCIb"
      },
      "source": [
        "<h1>Ps/Pa</h1>"
      ]
    },
    {
      "cell_type": "code",
      "metadata": {
        "id": "PTOzWSqBtziQ"
      },
      "source": [
        "#Storing the features\r\n",
        "\r\n",
        "PsPa = soup.select('.period')"
      ],
      "execution_count": null,
      "outputs": []
    },
    {
      "cell_type": "code",
      "metadata": {
        "id": "FPpPdVWru0Ah"
      },
      "source": [
        "#storing needed data into a Feature\r\n",
        "\r\n",
        "all_pspa = []\r\n",
        "for i in PsPa:\r\n",
        "    pspa = i.get_text()\r\n",
        "    all_pspa.append(pspa)"
      ],
      "execution_count": null,
      "outputs": []
    },
    {
      "cell_type": "code",
      "metadata": {
        "id": "WfF96aLXwM4I",
        "colab": {
          "base_uri": "https://localhost:8080/"
        },
        "outputId": "0ce7da15-85dc-49f6-8b9f-9b6d4ce12989"
      },
      "source": [
        "len(PsPa)"
      ],
      "execution_count": null,
      "outputs": [
        {
          "output_type": "execute_result",
          "data": {
            "text/plain": [
              "20"
            ]
          },
          "metadata": {
            "tags": []
          },
          "execution_count": 83
        }
      ]
    },
    {
      "cell_type": "code",
      "metadata": {
        "id": "_PuUMXvkwngM",
        "colab": {
          "base_uri": "https://localhost:8080/"
        },
        "outputId": "06c28748-1498-47b3-c368-1999155ded52"
      },
      "source": [
        "len(all_pspa)"
      ],
      "execution_count": null,
      "outputs": [
        {
          "output_type": "execute_result",
          "data": {
            "text/plain": [
              "20"
            ]
          },
          "metadata": {
            "tags": []
          },
          "execution_count": 84
        }
      ]
    },
    {
      "cell_type": "code",
      "metadata": {
        "id": "h9II5MA-xF_A",
        "colab": {
          "base_uri": "https://localhost:8080/"
        },
        "outputId": "eca4cc28-d38e-491e-fd60-4026950f4775"
      },
      "source": [
        "PsPa[3]"
      ],
      "execution_count": null,
      "outputs": [
        {
          "output_type": "execute_result",
          "data": {
            "text/plain": [
              "<span class=\"period\"> per square meter / per annum</span>"
            ]
          },
          "metadata": {
            "tags": []
          },
          "execution_count": 85
        }
      ]
    },
    {
      "cell_type": "code",
      "metadata": {
        "id": "vYCIv1lxxNPK",
        "colab": {
          "base_uri": "https://localhost:8080/",
          "height": 35
        },
        "outputId": "902308e0-a8f7-4d06-9a02-104f83b1da09"
      },
      "source": [
        "all_pspa[3]"
      ],
      "execution_count": null,
      "outputs": [
        {
          "output_type": "execute_result",
          "data": {
            "application/vnd.google.colaboratory.intrinsic+json": {
              "type": "string"
            },
            "text/plain": [
              "' per square meter / per annum'"
            ]
          },
          "metadata": {
            "tags": []
          },
          "execution_count": 86
        }
      ]
    },
    {
      "cell_type": "markdown",
      "metadata": {
        "id": "SeeS3yhK1nxa"
      },
      "source": [
        "<h1>SQUARE METER (Sqm)"
      ]
    },
    {
      "cell_type": "code",
      "metadata": {
        "id": "Hw9qjOlFvQom"
      },
      "source": [
        "#Storing the features\r\n",
        "\r\n",
        "Sqm = soup.select('.description > p')"
      ],
      "execution_count": null,
      "outputs": []
    },
    {
      "cell_type": "code",
      "metadata": {
        "id": "K5d-gf1vAVHr",
        "colab": {
          "base_uri": "https://localhost:8080/"
        },
        "outputId": "bccb0005-16b0-43f7-fd1b-98c00ee3324c"
      },
      "source": [
        "len(Sqm)"
      ],
      "execution_count": null,
      "outputs": [
        {
          "output_type": "execute_result",
          "data": {
            "text/plain": [
              "20"
            ]
          },
          "metadata": {
            "tags": []
          },
          "execution_count": 88
        }
      ]
    },
    {
      "cell_type": "code",
      "metadata": {
        "id": "9kui705-A5s5",
        "colab": {
          "base_uri": "https://localhost:8080/"
        },
        "outputId": "6939198e-895e-475d-b45f-1634850b22e2"
      },
      "source": [
        "Sqm[4]"
      ],
      "execution_count": null,
      "outputs": [
        {
          "output_type": "execute_result",
          "data": {
            "text/plain": [
              "<p>\n",
              "Expanse of land measuring 27000m2 at with 6 bay warehouse available\n",
              "rent 20k per square negotia...\n",
              "</p>"
            ]
          },
          "metadata": {
            "tags": []
          },
          "execution_count": 89
        }
      ]
    },
    {
      "cell_type": "code",
      "metadata": {
        "id": "DK3LJxyeC6x_"
      },
      "source": [
        "#fixing all Sqm into a list\r\n",
        "\r\n",
        "all_sqm = []\r\n",
        "\r\n",
        "for i in Sqm:\r\n",
        "  sqm = i.get_text()\r\n",
        "  all_sqm.append(sqm)\r\n",
        "\r\n",
        "    \r\n"
      ],
      "execution_count": null,
      "outputs": []
    },
    {
      "cell_type": "code",
      "metadata": {
        "id": "GVxLFCXYzSAG",
        "colab": {
          "base_uri": "https://localhost:8080/"
        },
        "outputId": "b43837bb-2771-4ad3-d44f-ebb2ba049655"
      },
      "source": [
        "len(all_sqm)"
      ],
      "execution_count": null,
      "outputs": [
        {
          "output_type": "execute_result",
          "data": {
            "text/plain": [
              "20"
            ]
          },
          "metadata": {
            "tags": []
          },
          "execution_count": 91
        }
      ]
    },
    {
      "cell_type": "code",
      "metadata": {
        "id": "Kbg1stoqXvvX",
        "colab": {
          "base_uri": "https://localhost:8080/",
          "height": 35
        },
        "outputId": "acdf1f2f-8729-49fa-ea95-dfd319372ea9"
      },
      "source": [
        "all_sqm[4]"
      ],
      "execution_count": null,
      "outputs": [
        {
          "output_type": "execute_result",
          "data": {
            "application/vnd.google.colaboratory.intrinsic+json": {
              "type": "string"
            },
            "text/plain": [
              "'\\nExpanse of land measuring 27000m2 at with 6 bay warehouse available\\nrent 20k per square negotia...\\n'"
            ]
          },
          "metadata": {
            "tags": []
          },
          "execution_count": 92
        }
      ]
    },
    {
      "cell_type": "markdown",
      "metadata": {
        "id": "nk6irpzJcQlP"
      },
      "source": [
        "<h1>CREATING A MASTER LIST OF ALL FEATURES</h1>"
      ]
    },
    {
      "cell_type": "code",
      "metadata": {
        "id": "gj3Wdv6rbPkR"
      },
      "source": [
        "#creating a function to be able to return all list generated\r\n",
        "\r\n",
        "def all_data(url):\r\n",
        "    r = requests.get (url, headers=headers)\r\n",
        "    soup = BeautifulSoup(r.text,'html.parser')\r\n",
        "    \r\n",
        "    \r\n",
        "    locations = soup.select('.voffset-bottom-10 > strong')    \r\n",
        "    all_location = []\r\n",
        "    for i in locations:\r\n",
        "      location = i.get_text().split()\r\n",
        "      location = location[-1]\r\n",
        "      location = location.replace(',', '')\r\n",
        "      all_location.append(location)\r\n",
        "\r\n",
        "\r\n",
        "    Price = soup.select('.price')\r\n",
        "    all_price = []\r\n",
        "    for i,price in enumerate(Price):\r\n",
        "        if i % 2 != 0:\r\n",
        "            all_price.append(price.getText().replace('/year', ''))\r\n",
        "    \r\n",
        "    \r\n",
        "    PsPa = soup.select('.period')\r\n",
        "    all_pspa = []\r\n",
        "    for i in PsPa:\r\n",
        "      pspa = i.get_text().split(',')\r\n",
        "      all_pspa.append(pspa)\r\n",
        "\r\n",
        "\r\n",
        "    Sqm = soup.select('.description > p')    \r\n",
        "    all_sqm = []\r\n",
        "    for i in Sqm:\r\n",
        "      sqm = i.get_text()\r\n",
        "      all_sqm.append(sqm)  \r\n",
        "\r\n",
        "    return (all_location, all_price,  all_pspa, all_sqm)\r\n"
      ],
      "execution_count": null,
      "outputs": []
    },
    {
      "cell_type": "code",
      "metadata": {
        "id": "IG85sLqrezDD"
      },
      "source": [
        "#crawls all the pages on the website from page 1 to 100\r\n",
        "\r\n",
        "urls = [url]\r\n",
        "for i in range(1,12):\r\n",
        "    all_url = url + '?page=' + str(i)\r\n",
        "    urls.append(all_url)\r\n"
      ],
      "execution_count": null,
      "outputs": []
    },
    {
      "cell_type": "code",
      "metadata": {
        "id": "AhqrkawpgGQc",
        "colab": {
          "base_uri": "https://localhost:8080/",
          "height": 35
        },
        "outputId": "a261e9dc-39e9-44e3-cc13-09a55b831b68"
      },
      "source": [
        "urls[11]"
      ],
      "execution_count": null,
      "outputs": [
        {
          "output_type": "execute_result",
          "data": {
            "application/vnd.google.colaboratory.intrinsic+json": {
              "type": "string"
            },
            "text/plain": [
              "'https://nigeriapropertycentre.com/for-rent/commercial/warehouses/showtype?page=11'"
            ]
          },
          "metadata": {
            "tags": []
          },
          "execution_count": 95
        }
      ]
    },
    {
      "cell_type": "code",
      "metadata": {
        "id": "Fe1R7CX3gJFR"
      },
      "source": [
        "master_location = []\r\n",
        "master_price = []\r\n",
        "master_pspa = []\r\n",
        "master_sqm = []\r\n",
        "\r\n",
        "for all_url in urls:\r\n",
        "    all_location,  all_price, all_pspa, all_sqm = all_data(all_url)\r\n",
        "    \r\n",
        "    master_location += all_location\r\n",
        "    master_price += all_price\r\n",
        "    master_pspa += all_pspa\r\n",
        "    master_sqm += all_sqm\r\n",
        "    \r\n",
        "    time.sleep(20)"
      ],
      "execution_count": null,
      "outputs": []
    },
    {
      "cell_type": "markdown",
      "metadata": {
        "id": "x3ICxIDGTH-p"
      },
      "source": [
        "<h1>Confirming The Length Of Each List Of Attributes Created</h1>\r\n"
      ]
    },
    {
      "cell_type": "code",
      "metadata": {
        "id": "hGBu2A-GhOgz",
        "colab": {
          "base_uri": "https://localhost:8080/"
        },
        "outputId": "6af3ac7b-35a2-4857-a9b6-5dd00a782346"
      },
      "source": [
        "\r\n",
        "len(master_location)\r\n"
      ],
      "execution_count": null,
      "outputs": [
        {
          "output_type": "execute_result",
          "data": {
            "text/plain": [
              "229"
            ]
          },
          "metadata": {
            "tags": []
          },
          "execution_count": 97
        }
      ]
    },
    {
      "cell_type": "code",
      "metadata": {
        "colab": {
          "base_uri": "https://localhost:8080/"
        },
        "id": "VZT5LpzeS6cw",
        "outputId": "302048bb-c73a-40f5-cb55-d6ec7ef0b23a"
      },
      "source": [
        "len(master_price)"
      ],
      "execution_count": null,
      "outputs": [
        {
          "output_type": "execute_result",
          "data": {
            "text/plain": [
              "229"
            ]
          },
          "metadata": {
            "tags": []
          },
          "execution_count": 98
        }
      ]
    },
    {
      "cell_type": "code",
      "metadata": {
        "colab": {
          "base_uri": "https://localhost:8080/"
        },
        "id": "_Be_0FGyS9rP",
        "outputId": "93f1098d-37ba-4a75-ed67-c936bb8926a2"
      },
      "source": [
        "len(master_pspa)"
      ],
      "execution_count": null,
      "outputs": [
        {
          "output_type": "execute_result",
          "data": {
            "text/plain": [
              "229"
            ]
          },
          "metadata": {
            "tags": []
          },
          "execution_count": 99
        }
      ]
    },
    {
      "cell_type": "code",
      "metadata": {
        "colab": {
          "base_uri": "https://localhost:8080/"
        },
        "id": "bEBhFJa3TApw",
        "outputId": "f41192af-f4d3-4ba9-f651-c29594d5cd42"
      },
      "source": [
        "len(master_sqm)"
      ],
      "execution_count": null,
      "outputs": [
        {
          "output_type": "execute_result",
          "data": {
            "text/plain": [
              "229"
            ]
          },
          "metadata": {
            "tags": []
          },
          "execution_count": 100
        }
      ]
    },
    {
      "cell_type": "code",
      "metadata": {
        "id": "g-KFjSJ-TFuN"
      },
      "source": [
        "# create a data frame from the list of dictionaries\r\n",
        "\r\n",
        "Warehouse_rent = pd.DataFrame ({\"Location\": master_location,\r\n",
        "                            \"Price\": master_price,\r\n",
        "                            \"PsPa\": master_pspa,\r\n",
        "                            \"Sqm\": master_sqm\r\n",
        "                           })"
      ],
      "execution_count": null,
      "outputs": []
    },
    {
      "cell_type": "code",
      "metadata": {
        "id": "aMtu-rgpUAX4"
      },
      "source": [
        "#converting dataframe to CSV\r\n",
        "\r\n",
        "Warehouse_rent.to_csv(\"Warehouse_rent.csv\")"
      ],
      "execution_count": null,
      "outputs": []
    },
    {
      "cell_type": "code",
      "metadata": {
        "id": "pvw3Gdq4UX3H"
      },
      "source": [
        "df = pd.read_csv(\"Warehouse_rent.csv\")"
      ],
      "execution_count": null,
      "outputs": []
    },
    {
      "cell_type": "code",
      "metadata": {
        "colab": {
          "base_uri": "https://localhost:8080/",
          "height": 419
        },
        "id": "dVgepi_xUk1D",
        "outputId": "386d2244-25d6-4f1a-dcc7-4740a602d888"
      },
      "source": [
        "df"
      ],
      "execution_count": null,
      "outputs": [
        {
          "output_type": "execute_result",
          "data": {
            "text/html": [
              "<div>\n",
              "<style scoped>\n",
              "    .dataframe tbody tr th:only-of-type {\n",
              "        vertical-align: middle;\n",
              "    }\n",
              "\n",
              "    .dataframe tbody tr th {\n",
              "        vertical-align: top;\n",
              "    }\n",
              "\n",
              "    .dataframe thead th {\n",
              "        text-align: right;\n",
              "    }\n",
              "</style>\n",
              "<table border=\"1\" class=\"dataframe\">\n",
              "  <thead>\n",
              "    <tr style=\"text-align: right;\">\n",
              "      <th></th>\n",
              "      <th>Unnamed: 0</th>\n",
              "      <th>Location</th>\n",
              "      <th>Price</th>\n",
              "      <th>PsPa</th>\n",
              "      <th>Sqm</th>\n",
              "    </tr>\n",
              "  </thead>\n",
              "  <tbody>\n",
              "    <tr>\n",
              "      <th>0</th>\n",
              "      <td>0</td>\n",
              "      <td>Lagos</td>\n",
              "      <td>7,500,000</td>\n",
              "      <td>[' per annum']</td>\n",
              "      <td>\\nWarehouse in lagos island. 3 year lease maxi...</td>\n",
              "    </tr>\n",
              "    <tr>\n",
              "      <th>1</th>\n",
              "      <td>1</td>\n",
              "      <td>Lagos</td>\n",
              "      <td>5,000,000</td>\n",
              "      <td>[' per annum']</td>\n",
              "      <td>\\nThis a specious warehouse with large parking...</td>\n",
              "    </tr>\n",
              "    <tr>\n",
              "      <th>2</th>\n",
              "      <td>2</td>\n",
              "      <td>Lagos</td>\n",
              "      <td>10,000,000</td>\n",
              "      <td>[' per annum']</td>\n",
              "      <td>\\nLocation: ago palace way okota\\nfor lease wa...</td>\n",
              "    </tr>\n",
              "    <tr>\n",
              "      <th>3</th>\n",
              "      <td>3</td>\n",
              "      <td>Lagos</td>\n",
              "      <td>12,000</td>\n",
              "      <td>[' per square meter / per annum']</td>\n",
              "      <td>\\nLetting: 2 bay warehouse measuring 32000sqm ...</td>\n",
              "    </tr>\n",
              "    <tr>\n",
              "      <th>4</th>\n",
              "      <td>4</td>\n",
              "      <td>Lagos</td>\n",
              "      <td>20,000</td>\n",
              "      <td>[' per square meter / per annum']</td>\n",
              "      <td>\\nExpanse of land measuring 27000m2 at with 6 ...</td>\n",
              "    </tr>\n",
              "    <tr>\n",
              "      <th>...</th>\n",
              "      <td>...</td>\n",
              "      <td>...</td>\n",
              "      <td>...</td>\n",
              "      <td>...</td>\n",
              "      <td>...</td>\n",
              "    </tr>\n",
              "    <tr>\n",
              "      <th>224</th>\n",
              "      <td>224</td>\n",
              "      <td>Lagos</td>\n",
              "      <td>6,000,000</td>\n",
              "      <td>[' per annum']</td>\n",
              "      <td>\\nFor lease warehouse capacity 5000 sqft, spac...</td>\n",
              "    </tr>\n",
              "    <tr>\n",
              "      <th>225</th>\n",
              "      <td>225</td>\n",
              "      <td>Lagos</td>\n",
              "      <td>15,000,000</td>\n",
              "      <td>[' per annum']</td>\n",
              "      <td>\\nProperty description\\nfor lease warehouse ca...</td>\n",
              "    </tr>\n",
              "    <tr>\n",
              "      <th>226</th>\n",
              "      <td>226</td>\n",
              "      <td>Lagos</td>\n",
              "      <td>45,000,000</td>\n",
              "      <td>[' per annum']</td>\n",
              "      <td>\\nLocation: ojota, ikorodu road, ojota.\\nfor l...</td>\n",
              "    </tr>\n",
              "    <tr>\n",
              "      <th>227</th>\n",
              "      <td>227</td>\n",
              "      <td>Abuja</td>\n",
              "      <td>3,500,000</td>\n",
              "      <td>[' per annum']</td>\n",
              "      <td>\\nWarehouse for lease or sale off banex- kado ...</td>\n",
              "    </tr>\n",
              "    <tr>\n",
              "      <th>228</th>\n",
              "      <td>228</td>\n",
              "      <td>Ogun</td>\n",
              "      <td>15,000</td>\n",
              "      <td>[' per square meter / per annum']</td>\n",
              "      <td>\\nFor rent: warehouse measuring 1025 sqm at wa...</td>\n",
              "    </tr>\n",
              "  </tbody>\n",
              "</table>\n",
              "<p>229 rows × 5 columns</p>\n",
              "</div>"
            ],
            "text/plain": [
              "     Unnamed: 0  ...                                                Sqm\n",
              "0             0  ...  \\nWarehouse in lagos island. 3 year lease maxi...\n",
              "1             1  ...  \\nThis a specious warehouse with large parking...\n",
              "2             2  ...  \\nLocation: ago palace way okota\\nfor lease wa...\n",
              "3             3  ...  \\nLetting: 2 bay warehouse measuring 32000sqm ...\n",
              "4             4  ...  \\nExpanse of land measuring 27000m2 at with 6 ...\n",
              "..          ...  ...                                                ...\n",
              "224         224  ...  \\nFor lease warehouse capacity 5000 sqft, spac...\n",
              "225         225  ...  \\nProperty description\\nfor lease warehouse ca...\n",
              "226         226  ...  \\nLocation: ojota, ikorodu road, ojota.\\nfor l...\n",
              "227         227  ...  \\nWarehouse for lease or sale off banex- kado ...\n",
              "228         228  ...  \\nFor rent: warehouse measuring 1025 sqm at wa...\n",
              "\n",
              "[229 rows x 5 columns]"
            ]
          },
          "metadata": {
            "tags": []
          },
          "execution_count": 107
        }
      ]
    },
    {
      "cell_type": "markdown",
      "metadata": {
        "id": "Q28NVH3BVs8B"
      },
      "source": [
        "<h1>This is the first phase of DeliverAsap Warehouse dataset<hr>Second phase will be cleaning the data set, Let's do this!!</h1>"
      ]
    },
    {
      "cell_type": "code",
      "metadata": {
        "id": "TZaceXylUl8d"
      },
      "source": [
        ""
      ],
      "execution_count": null,
      "outputs": []
    }
  ]
}